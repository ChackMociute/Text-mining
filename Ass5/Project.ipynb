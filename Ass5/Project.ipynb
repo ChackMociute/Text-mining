{
 "cells": [
  {
   "cell_type": "markdown",
   "id": "167f6238-29cc-4bf5-9435-f23ffd0d3f6f",
   "metadata": {},
   "source": [
    "# Text mining project\n",
    "## Group 12"
   ]
  },
  {
   "cell_type": "code",
   "execution_count": 36,
   "id": "c9f18f86-4920-4591-9c8b-424ab29ec61c",
   "metadata": {
    "tags": []
   },
   "outputs": [],
   "source": [
    "import nltk\n",
    "import numpy as np\n",
    "import pandas as pd\n",
    "import matplotlib.pyplot as plt\n",
    "from nltk.corpus.reader import ConllCorpusReader\n",
    "from sklearn.feature_extraction import DictVectorizer\n",
    "from sklearn.model_selection import GridSearchCV\n",
    "from sklearn.svm import LinearSVC\n",
    "from sklearn.naive_bayes import MultinomialNB\n",
    "from sklearn.neighbors import KNeighborsClassifier\n",
    "from sklearn.ensemble import RandomForestClassifier\n",
    "from sklearn.metrics import classification_report, f1_score\n",
    "from gensim.models import KeyedVectors"
   ]
  },
  {
   "cell_type": "markdown",
   "id": "7a9d595d-c7ff-4cb8-b7bc-8bb5559b0035",
   "metadata": {},
   "source": [
    "## Loading and wrangling data"
   ]
  },
  {
   "cell_type": "code",
   "execution_count": 2,
   "id": "aa69773a-0024-4826-8ac1-f8f5a5b5ce56",
   "metadata": {
    "tags": []
   },
   "outputs": [],
   "source": [
    "ner_test = pd.read_csv('NER-final-test.tsv', delimiter='\\t')[['token', 'BIO NER tag']]\n",
    "ner_test[['token', 'pos']] = nltk.pos_tag(ner_test['token'])\n",
    "\n",
    "st_test = pd.read_csv('sentiment-topic-final-test.tsv', delimiter='\\t').drop(columns=['sentence id'])"
   ]
  },
  {
   "cell_type": "code",
   "execution_count": 3,
   "id": "f3eb8151-92cc-4fdc-bfa9-3320377cb615",
   "metadata": {
    "tags": []
   },
   "outputs": [],
   "source": [
    "ner_train = pd.DataFrame(\n",
    "    ConllCorpusReader('../Ass3/nerc_datasets/CONLL2003',\n",
    "                      'train.txt', ['words', 'pos', 'ignore', 'chunk']\n",
    "                     ).iob_words(), columns=['token', 'pos', 'label'])\n",
    "ner_val = pd.DataFrame(\n",
    "    ConllCorpusReader('../Ass3/nerc_datasets/CONLL2003',\n",
    "                      'valid.txt', ['words', 'pos', 'ignore', 'chunk']\n",
    "                     ).iob_words(), columns=['token', 'pos', 'label'])"
   ]
  },
  {
   "cell_type": "code",
   "execution_count": 4,
   "id": "8def000f-4e05-4461-8c8e-3bde6e31ceef",
   "metadata": {
    "tags": []
   },
   "outputs": [],
   "source": [
    "v = DictVectorizer().fit([tok for l in [ner_train, ner_val, ner_test]\n",
    "                          for tok in l[['token', 'pos']].T.to_dict().values()])"
   ]
  },
  {
   "cell_type": "code",
   "execution_count": 5,
   "id": "96f7f832-ba81-45fd-957a-0c79f57a3950",
   "metadata": {
    "tags": []
   },
   "outputs": [],
   "source": [
    "train = v.transform(ner_train[['token', 'pos']].T.to_dict().values())\n",
    "val = v.transform(ner_val[['token', 'pos']].T.to_dict().values())"
   ]
  },
  {
   "cell_type": "markdown",
   "id": "451443bd-af57-4a11-8168-df5776e0f63d",
   "metadata": {},
   "source": [
    "## Training classification models for NERC with BoW"
   ]
  },
  {
   "cell_type": "markdown",
   "id": "43124b29-0655-4bd2-b8fd-bf2d90786468",
   "metadata": {},
   "source": [
    "#### SVM hyperparameter tuning and training"
   ]
  },
  {
   "cell_type": "code",
   "execution_count": 6,
   "id": "d7d683fe-5c83-45df-b3f4-1565acdcf984",
   "metadata": {
    "tags": []
   },
   "outputs": [
    {
     "name": "stdout",
     "output_type": "stream",
     "text": [
      "              precision    recall  f1-score   support\n",
      "\n",
      "       B-LOC       0.87      0.80      0.83      1837\n",
      "      B-MISC       0.88      0.74      0.80       922\n",
      "       B-ORG       0.80      0.65      0.72      1341\n",
      "       B-PER       0.88      0.62      0.73      1842\n",
      "       I-LOC       0.72      0.70      0.71       257\n",
      "      I-MISC       0.79      0.51      0.62       346\n",
      "       I-ORG       0.72      0.46      0.56       751\n",
      "       I-PER       0.44      0.87      0.59      1307\n",
      "           O       0.99      0.99      0.99     42759\n",
      "\n",
      "    accuracy                           0.94     51362\n",
      "   macro avg       0.79      0.70      0.73     51362\n",
      "weighted avg       0.95      0.94      0.94     51362\n",
      "\n"
     ]
    }
   ],
   "source": [
    "# svm = GridSearchCV(LinearSVC(), {'C': np.logspace(-2, 2, 5)}, scoring='f1_macro', n_jobs=-1)\n",
    "\n",
    "# Takes forever to run so just use the params below\n",
    "# svm.best_params_ = {'C': 100.0}\n",
    "\n",
    "svm_bow = LinearSVC(C=100, max_iter=10000)\n",
    "svm_bow.fit(train, ner_train['label'].values)\n",
    "svm_bow_pred = svm_bow.predict(val)\n",
    "print(classification_report(ner_val['label'].values, svm_bow_pred))"
   ]
  },
  {
   "cell_type": "markdown",
   "id": "e0fc457b-2f9e-4029-8a20-4aaeb5520d67",
   "metadata": {},
   "source": [
    "#### Naive Bayes training"
   ]
  },
  {
   "cell_type": "code",
   "execution_count": 7,
   "id": "42ca3cd5-3cc0-4dae-bf1c-d043c425cb5a",
   "metadata": {
    "tags": []
   },
   "outputs": [
    {
     "name": "stdout",
     "output_type": "stream",
     "text": [
      "              precision    recall  f1-score   support\n",
      "\n",
      "       B-LOC       0.43      0.87      0.58      1837\n",
      "      B-MISC       0.90      0.64      0.75       922\n",
      "       B-ORG       0.70      0.54      0.61      1341\n",
      "       B-PER       0.81      0.62      0.70      1842\n",
      "       I-LOC       0.85      0.11      0.20       257\n",
      "      I-MISC       0.93      0.15      0.26       346\n",
      "       I-ORG       0.60      0.42      0.50       751\n",
      "       I-PER       0.73      0.35      0.48      1307\n",
      "           O       0.98      0.99      0.99     42759\n",
      "\n",
      "    accuracy                           0.92     51362\n",
      "   macro avg       0.77      0.52      0.56     51362\n",
      "weighted avg       0.93      0.92      0.92     51362\n",
      "\n"
     ]
    }
   ],
   "source": [
    "# Naive Bayes doesn't make much sense for such a task but I wanted to have 3 classifiers and training a NN is a bit more of a hassle\n",
    "nb_bow = MultinomialNB()\n",
    "nb_bow.fit(train, ner_train['label'].values)\n",
    "nb_bow_pred = nb_bow.predict(val)\n",
    "print(classification_report(ner_val['label'].values, nb_bow_pred))"
   ]
  },
  {
   "cell_type": "markdown",
   "id": "7c105501-0658-4631-a831-7d848b0cd51f",
   "metadata": {},
   "source": [
    "#### KNN hyperparameter tuning and training"
   ]
  },
  {
   "cell_type": "code",
   "execution_count": 8,
   "id": "5a8d9a52-daed-4b73-9e77-4197675209fc",
   "metadata": {
    "tags": []
   },
   "outputs": [
    {
     "name": "stdout",
     "output_type": "stream",
     "text": [
      "              precision    recall  f1-score   support\n",
      "\n",
      "       B-LOC       0.82      0.70      0.76      1837\n",
      "      B-MISC       0.80      0.63      0.71       922\n",
      "       B-ORG       0.23      0.71      0.35      1341\n",
      "       B-PER       0.86      0.37      0.52      1842\n",
      "       I-LOC       0.70      0.59      0.64       257\n",
      "      I-MISC       0.82      0.38      0.52       346\n",
      "       I-ORG       0.76      0.32      0.45       751\n",
      "       I-PER       0.64      0.14      0.23      1307\n",
      "           O       0.98      0.99      0.99     42759\n",
      "\n",
      "    accuracy                           0.91     51362\n",
      "   macro avg       0.74      0.54      0.57     51362\n",
      "weighted avg       0.93      0.91      0.91     51362\n",
      "\n"
     ]
    }
   ],
   "source": [
    "# knn = GridSearchCV(KNeighborsClassifier(),\n",
    "#                    {'n_neighbors': np.arange(2, 14, 2), 'p': [1, 2, 3]},\n",
    "#                    scoring='f1_macro',\n",
    "#                    n_jobs=-1)\n",
    "\n",
    "# Takes forever to run so just use the params below\n",
    "# knn.best_params_ = {'n_neighbors': 12, 'p': 1}\n",
    "\n",
    "knn_bow = KNeighborsClassifier(n_neighbors=12, p=1, n_jobs=-1)\n",
    "knn_bow.fit(train, ner_train['label'].values)\n",
    "knn_bow_pred = knn_bow.predict(val)\n",
    "print(classification_report(ner_val['label'].values, knn_bow_pred))"
   ]
  },
  {
   "cell_type": "markdown",
   "id": "4b07fa87-2278-4664-a061-3ac7ca2d71fa",
   "metadata": {},
   "source": [
    "## Training classification models for NERC with word embeddings"
   ]
  },
  {
   "cell_type": "code",
   "execution_count": 24,
   "id": "cca5648c-9f7f-4ebf-a9a4-5e86862fbbe7",
   "metadata": {
    "tags": []
   },
   "outputs": [],
   "source": [
    "word_embedding_model = KeyedVectors.load_word2vec_format('../../GoogleNews-vectors-negative300.bin', binary=True)\n",
    "\n",
    "def to_embedding(word):\n",
    "    if word != '' and word != 'DOCSTART' and word in word_embedding_model:\n",
    "        return word_embedding_model[word]\n",
    "    return [0]*300"
   ]
  },
  {
   "cell_type": "code",
   "execution_count": 25,
   "id": "a867c24e-c20c-42cd-aacb-216e1e3ea70c",
   "metadata": {
    "tags": []
   },
   "outputs": [],
   "source": [
    "train = np.concatenate(ner_train['token'].map(to_embedding).values).reshape(-1, 300)\n",
    "val = np.concatenate(ner_val['token'].map(to_embedding).values).reshape(-1, 300)"
   ]
  },
  {
   "cell_type": "markdown",
   "id": "c10ce869-f11f-4501-9310-7c06266aaf8a",
   "metadata": {},
   "source": [
    "#### SVM hyperparameter tuning and training"
   ]
  },
  {
   "cell_type": "code",
   "execution_count": 27,
   "id": "7f224387-b861-4a32-b975-c338c3289dfc",
   "metadata": {
    "tags": []
   },
   "outputs": [
    {
     "name": "stderr",
     "output_type": "stream",
     "text": [
      "C:\\Users\\Grazuole\\AppData\\Roaming\\Python\\Python310\\site-packages\\sklearn\\svm\\_base.py:1206: ConvergenceWarning: Liblinear failed to converge, increase the number of iterations.\n",
      "  warnings.warn(\n"
     ]
    },
    {
     "name": "stdout",
     "output_type": "stream",
     "text": [
      "              precision    recall  f1-score   support\n",
      "\n",
      "       B-LOC       0.82      0.80      0.81      1837\n",
      "      B-MISC       0.79      0.69      0.74       922\n",
      "       B-ORG       0.70      0.65      0.67      1341\n",
      "       B-PER       0.79      0.71      0.74      1842\n",
      "       I-LOC       0.61      0.56      0.58       257\n",
      "      I-MISC       0.68      0.43      0.53       346\n",
      "       I-ORG       0.61      0.36      0.45       751\n",
      "       I-PER       0.60      0.57      0.58      1307\n",
      "           O       0.97      1.00      0.98     42759\n",
      "\n",
      "    accuracy                           0.94     51362\n",
      "   macro avg       0.73      0.64      0.68     51362\n",
      "weighted avg       0.93      0.94      0.93     51362\n",
      "\n"
     ]
    }
   ],
   "source": [
    "# svm_we = GridSearchCV(LinearSVC(), {'C': np.logspace(-2, 2, 5)}, scoring='f1_macro', n_jobs=-1)\n",
    "\n",
    "# Takes forever to run so just use the params below\n",
    "# svm.best_params_ = {'C': 10.0}\n",
    "\n",
    "svm_we = LinearSVC(C=10, max_iter=10000)\n",
    "svm_we.fit(train, ner_train['label'].values)\n",
    "svm_we_pred = svm_we.predict(val)\n",
    "print(classification_report(ner_val['label'].values, svm_we_pred))"
   ]
  },
  {
   "cell_type": "markdown",
   "id": "da732fbc-dd9e-4538-854b-ed95498d1282",
   "metadata": {},
   "source": [
    "#### KNN hyperparameter tuning and  training"
   ]
  },
  {
   "cell_type": "code",
   "execution_count": null,
   "id": "de24046a-9827-4968-8006-2a20012d25c6",
   "metadata": {
    "tags": []
   },
   "outputs": [],
   "source": [
    "knn_we = GridSearchCV(KNeighborsClassifier(),\n",
    "                      {'n_neighbors': np.arange(2, 14, 2), 'p': [1, 2, 3]},\n",
    "                      scoring='f1_macro',\n",
    "                      n_jobs=-1)\n",
    "knn_we.fit(train, ner_train['label'].values)\n",
    "knn_we_pred = knn_we.predict(val)\n",
    "print(classification_report(ner_val['label'].values, knn_we_pred))"
   ]
  },
  {
   "cell_type": "code",
   "execution_count": 35,
   "id": "6d84a339-e58a-4a92-9298-c81b6384397d",
   "metadata": {
    "tags": []
   },
   "outputs": [
    {
     "name": "stdout",
     "output_type": "stream",
     "text": [
      "              precision    recall  f1-score   support\n",
      "\n",
      "       B-LOC       0.80      0.83      0.81      1837\n",
      "      B-MISC       0.77      0.72      0.74       922\n",
      "       B-ORG       0.69      0.65      0.67      1341\n",
      "       B-PER       0.74      0.70      0.72      1842\n",
      "       I-LOC       0.68      0.52      0.59       257\n",
      "      I-MISC       0.74      0.46      0.57       346\n",
      "       I-ORG       0.62      0.43      0.51       751\n",
      "       I-PER       0.55      0.57      0.56      1307\n",
      "           O       0.98      0.99      0.99     42759\n",
      "\n",
      "    accuracy                           0.94     51362\n",
      "   macro avg       0.73      0.65      0.68     51362\n",
      "weighted avg       0.93      0.94      0.93     51362\n",
      "\n"
     ]
    }
   ],
   "source": [
    "knn_we = KNeighborsClassifier()\n",
    "knn_we.fit(train, ner_train['label'].values)\n",
    "knn_we_pred = knn_we.predict(val)\n",
    "print(classification_report(ner_val['label'].values, knn_we_pred))"
   ]
  },
  {
   "cell_type": "markdown",
   "id": "dadc9c2e-5daa-4e72-a85e-c1faa004e46d",
   "metadata": {},
   "source": [
    "#### Random Forest hyperparameter tuning and training"
   ]
  },
  {
   "cell_type": "code",
   "execution_count": null,
   "id": "db7dd0e3-5b23-4ab4-a910-3913bf24bcd1",
   "metadata": {
    "tags": []
   },
   "outputs": [],
   "source": [
    "rf_we = GridSearchCV(RandomForestClassifier(),\n",
    "                     {'n_estimators': np.arange(50, 151, 25), 'max_depth': [5, 10, 15, None]},\n",
    "                     scoring='f1_macro',\n",
    "                     n_jobs=-1)\n",
    "rf_we.fit(train, ner_train['label'].values)\n",
    "rf_we_pred = knn_we.predict(val)\n",
    "print(classification_report(ner_val['label'].values, rf_we_pred))"
   ]
  },
  {
   "cell_type": "code",
   "execution_count": 37,
   "id": "2de3383d-2bf2-42a0-a5f3-d7494a58713a",
   "metadata": {
    "tags": []
   },
   "outputs": [
    {
     "name": "stdout",
     "output_type": "stream",
     "text": [
      "              precision    recall  f1-score   support\n",
      "\n",
      "       B-LOC       0.86      0.82      0.84      1837\n",
      "      B-MISC       0.87      0.71      0.78       922\n",
      "       B-ORG       0.78      0.64      0.70      1341\n",
      "       B-PER       0.86      0.71      0.78      1842\n",
      "       I-LOC       0.71      0.69      0.70       257\n",
      "      I-MISC       0.76      0.50      0.60       346\n",
      "       I-ORG       0.70      0.45      0.55       751\n",
      "       I-PER       0.68      0.53      0.59      1307\n",
      "           O       0.96      1.00      0.98     42759\n",
      "\n",
      "    accuracy                           0.94     51362\n",
      "   macro avg       0.80      0.67      0.73     51362\n",
      "weighted avg       0.94      0.94      0.94     51362\n",
      "\n"
     ]
    }
   ],
   "source": [
    "rf_we = RandomForestClassifier()\n",
    "rf_we.fit(train, ner_train['label'].values)\n",
    "rf_we_pred = rf_we.predict(val)\n",
    "print(classification_report(ner_val['label'].values, rf_we_pred))"
   ]
  },
  {
   "cell_type": "markdown",
   "id": "77222bea-8d44-46b0-a1ec-912ae9d2dc6a",
   "metadata": {},
   "source": [
    "## Plots"
   ]
  },
  {
   "cell_type": "code",
   "execution_count": 23,
   "id": "a15d845d-15d7-412c-8c65-0d313c29504f",
   "metadata": {
    "tags": []
   },
   "outputs": [
    {
     "data": {
      "image/png": "[encoded data removed]",
      "text/plain": [
       "<Figure size 1152x576 with 1 Axes>"
      ]
     },
     "metadata": {
      "needs_background": "light"
     },
     "output_type": "display_data"
    }
   ],
   "source": [
    "x = np.arange(0, 9)\n",
    "plt.figure(figsize=(16, 8))\n",
    "plt.bar(x - 0.3, height=f1_score(ner_val['label'], svm_bow_pred, average=None), width=0.3, label='SVM')\n",
    "plt.bar(x, height=f1_score(ner_val['label'], nb_bow_pred, average=None), width=0.3, label='Naive Bayes')\n",
    "plt.bar(x + 0.3, height=f1_score(ner_val['label'], knn_bow_pred, average=None), width=0.3, label='KNN')\n",
    "plt.title('Models trained with BoW', fontsize=20)\n",
    "plt.xticks(x, labels=sorted(ner_train.label.unique()), rotation=45, fontsize=14)\n",
    "plt.ylabel('F1 score', fontsize=14)\n",
    "plt.legend(fontsize=14)\n",
    "plt.savefig('Plots/BoW models.png')\n",
    "plt.show()"
   ]
  },
  {
   "cell_type": "code",
   "execution_count": 39,
   "id": "4fd4bbf3-320a-4dba-93eb-9db7bacc7063",
   "metadata": {
    "tags": []
   },
   "outputs": [
    {
     "data": {
      "image/png": "[encoded data removed]",
      "text/plain": [
       "<Figure size 1152x576 with 1 Axes>"
      ]
     },
     "metadata": {
      "needs_background": "light"
     },
     "output_type": "display_data"
    }
   ],
   "source": [
    "plt.figure(figsize=(16, 8))\n",
    "plt.bar(x - 0.3, height=f1_score(ner_val['label'], svm_we_pred, average=None), width=0.3, label='SVM')\n",
    "plt.bar(x, height=f1_score(ner_val['label'], rf_we_pred, average=None), width=0.3, label='Random Forest')\n",
    "plt.bar(x + 0.3, height=f1_score(ner_val['label'], knn_we_pred, average=None), width=0.3, label='KNN')\n",
    "plt.title('Models trained with word embeddings', fontsize=20)\n",
    "plt.xticks(x, labels=sorted(ner_train.label.unique()), rotation=45, fontsize=14)\n",
    "plt.ylabel('F1 score', fontsize=14)\n",
    "plt.legend(fontsize=14)\n",
    "plt.savefig('Plots/WE models.png')\n",
    "plt.show()"
   ]
  },
  {
   "cell_type": "markdown",
   "id": "43e0f5e0-5ae5-4ac6-b497-a47318fd1940",
   "metadata": {},
   "source": [
    "## Sentiment analysis and classification"
   ]
  },
  {
   "cell_type": "code",
   "execution_count": null,
   "id": "b2a2704a-a5aa-4624-a12c-c1c9595b5ed5",
   "metadata": {},
   "outputs": [],
   "source": []
  },
  {
   "cell_type": "markdown",
   "id": "3340b65a-65de-470c-954d-fd37551e7d8f",
   "metadata": {},
   "source": [
    "## Topic analysis and classification"
   ]
  },
  {
   "cell_type": "code",
   "execution_count": null,
   "id": "efc0bdfe-bd33-41aa-8d63-2806bb008d7d",
   "metadata": {},
   "outputs": [],
   "source": []
  }
 ],
 "metadata": {
  "kernelspec": {
   "display_name": "Python 3 (ipykernel)",
   "language": "python",
   "name": "python3"
  },
  "language_info": {
   "codemirror_mode": {
    "name": "ipython",
    "version": 3
   },
   "file_extension": ".py",
   "mimetype": "text/x-python",
   "name": "python",
   "nbconvert_exporter": "python",
   "pygments_lexer": "ipython3",
   "version": "3.10.2"
  }
 },
 "nbformat": 4,
 "nbformat_minor": 5
}
