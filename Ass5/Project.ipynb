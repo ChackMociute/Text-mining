{
 "cells": [
  {
   "cell_type": "markdown",
   "id": "167f6238-29cc-4bf5-9435-f23ffd0d3f6f",
   "metadata": {},
   "source": [
    "# Text mining project\n",
    "## Group 12"
   ]
  },
  {
   "cell_type": "code",
   "execution_count": 1,
   "id": "c9f18f86-4920-4591-9c8b-424ab29ec61c",
   "metadata": {
    "tags": []
   },
   "outputs": [],
   "source": [
    "import nltk\n",
    "import pickle\n",
    "import numpy as np\n",
    "import pandas as pd\n",
    "import matplotlib.pyplot as plt\n",
    "from nltk.corpus import stopwords, movie_reviews\n",
    "from nltk.corpus.reader import ConllCorpusReader\n",
    "from nltk.sentiment.vader import SentimentIntensityAnalyzer\n",
    "from nltk.stem import WordNetLemmatizer\n",
    "from sklearn.datasets import load_files\n",
    "from sklearn.feature_extraction import DictVectorizer\n",
    "from sklearn.feature_extraction.text import CountVectorizer, TfidfTransformer\n",
    "from sklearn.model_selection import GridSearchCV, train_test_split\n",
    "from sklearn.svm import LinearSVC\n",
    "from sklearn.naive_bayes import MultinomialNB\n",
    "from sklearn.neighbors import KNeighborsClassifier\n",
    "from sklearn.ensemble import RandomForestClassifier\n",
    "from sklearn.metrics import classification_report, f1_score\n",
    "from gensim.utils import simple_preprocess\n",
    "from gensim.corpora import Dictionary\n",
    "from gensim.parsing.preprocessing import STOPWORDS\n",
    "from gensim.models import KeyedVectors, LdaMulticore\n",
    "\n",
    "stop_words = list(set(nltk.word_tokenize(' '.join(stopwords.words('english'))) + stopwords.words('english')))"
   ]
  },
  {
   "cell_type": "markdown",
   "id": "7a9d595d-c7ff-4cb8-b7bc-8bb5559b0035",
   "metadata": {
    "tags": []
   },
   "source": [
    "## Loading and wrangling data"
   ]
  },
  {
   "cell_type": "code",
   "execution_count": 2,
   "id": "aa69773a-0024-4826-8ac1-f8f5a5b5ce56",
   "metadata": {
    "tags": []
   },
   "outputs": [],
   "source": [
    "#loading in the test data provided\n",
    "ner_test = pd.read_csv('data/NER-final-test.tsv', delimiter='\\t')[['token', 'BIO NER tag']]\n",
    "ner_test[['token', 'pos']] = nltk.pos_tag(ner_test['token'])\n",
    "\n",
    "st_test = pd.read_csv('data/sentiment-topic-final-test.tsv', delimiter='\\t').drop(columns=['sentence id'])"
   ]
  },
  {
   "cell_type": "code",
   "execution_count": 3,
   "id": "5d2e9380",
   "metadata": {},
   "outputs": [
    {
     "name": "stdout",
     "output_type": "stream",
     "text": [
      "     token BIO NER tag  pos\n",
      "0       It           O  PRP\n",
      "1     took           O  VBD\n",
      "2    eight           O   CD\n",
      "3    years           O  NNS\n",
      "4      for           O   IN\n",
      "..     ...         ...  ...\n",
      "209    get           O   VB\n",
      "210   into           O   IN\n",
      "211   this           O   DT\n",
      "212    one           O   CD\n",
      "213      .           O    .\n",
      "\n",
      "[214 rows x 3 columns]\n",
      "(10, 3)\n"
     ]
    }
   ],
   "source": [
    "print(ner_test)\n",
    "print(st_test.shape)"
   ]
  },
  {
   "cell_type": "code",
   "execution_count": 4,
   "id": "5ec08240",
   "metadata": {},
   "outputs": [],
   "source": [
    "#use if you want to download the movie reviews corpus\n",
    "# nltk.download('movie_reviews')"
   ]
  },
  {
   "cell_type": "code",
   "execution_count": 5,
   "id": "f3eb8151-92cc-4fdc-bfa9-3320377cb615",
   "metadata": {
    "tags": []
   },
   "outputs": [],
   "source": [
    "#loading in the ner from lab 4 and the airline tweets from lab 2\n",
    "#we have 3 tasks, ner (Conll), sentiment analysis (airlinetweets) and topic classification (movie reviews, book reviews, restaurant reviews)\n",
    "\n",
    "ner_train = pd.DataFrame(\n",
    "    ConllCorpusReader('../Ass3/nerc_datasets/CONLL2003',\n",
    "                      'train.txt', ['words', 'pos', 'ignore', 'chunk']\n",
    "                     ).iob_words(), columns=['token', 'pos', 'label'])\n",
    "ner_val = pd.DataFrame(\n",
    "    ConllCorpusReader('../Ass3/nerc_datasets/CONLL2003',\n",
    "                      'valid.txt', ['words', 'pos', 'ignore', 'chunk']\n",
    "                     ).iob_words(), columns=['token', 'pos', 'label'])\n",
    "\n",
    "sa_train = load_files('../Ass2/airlinetweets')\n",
    "\n",
    "restaurants = pd.read_csv('data/Restaurant_Reviews.tsv', delimiter='\\t').drop(columns=['Liked']).rename(columns={'Review': 'text'})\n",
    "books = pd.read_csv('data/Book-reviews.csv', encoding='cp1252').rename(columns={'ReviewContent': 'text'})\n",
    "movies = pd.DataFrame({'text': movie_reviews.sents()}).applymap(' '.join)"
   ]
  },
  {
   "cell_type": "code",
   "execution_count": 6,
   "id": "8def000f-4e05-4461-8c8e-3bde6e31ceef",
   "metadata": {
    "tags": []
   },
   "outputs": [],
   "source": [
    "#transforming the ner data into a format that can be used by the DictVectorizer (bag of words)\n",
    "v = DictVectorizer().fit([tok for l in [ner_train, ner_val, ner_test]\n",
    "                          for tok in l[['token', 'pos']].T.to_dict().values()])\n",
    "\n",
    "train = v.transform(ner_train[['token', 'pos']].T.to_dict().values())\n",
    "val = v.transform(ner_val[['token', 'pos']].T.to_dict().values())"
   ]
  },
  {
   "cell_type": "code",
   "execution_count": 7,
   "id": "1e1d9ce5-41ba-425b-9316-21f76e8b703a",
   "metadata": {},
   "outputs": [],
   "source": [
    "#transforming the sentiment analysis data into a format that can be used by the DictVectorizer (bag of words with tfidf)\n",
    "vec = CountVectorizer(min_df=5, tokenizer=nltk.word_tokenize, stop_words=stop_words)\n",
    "tfidf_transformer = TfidfTransformer()\n",
    "\n",
    "counts = vec.fit_transform(sa_train.data + st_test.text.values.tolist())\n",
    "tfidf = tfidf_transformer.fit_transform(counts)\n",
    "\n",
    "tfidf, tfidf_test = tfidf[:-len(st_test.text.values)], tfidf[-len(st_test.text.values):]\n",
    "tfidf_train, tfidf_val, tfidf_y_train, tfidf_y_val = train_test_split(tfidf, sa_train.target, test_size=0.2)"
   ]
  },
  {
   "cell_type": "code",
   "execution_count": 8,
   "id": "f7bcd8de-5a74-41e4-94c7-b1312eb69266",
   "metadata": {
    "tags": []
   },
   "outputs": [],
   "source": [
    "#transforming the topic classification data into a format that can be used by the DictVectorizer (bag of words with tfidf)\n",
    "restaurants['topic'] = 'restaurant'\n",
    "books['topic'] = 'book'\n",
    "movies['topic'] = 'movie'\n",
    "np.random.seed(0)\n",
    "\n",
    "train_ta = pd.concat([restaurants, books, movies]).groupby('topic').sample(len(restaurants)).sample(frac=1)\n",
    "\n",
    "vec = CountVectorizer(min_df=5, tokenizer=nltk.word_tokenize, stop_words=stop_words)\n",
    "counts = vec.fit_transform(train_ta.text.values.tolist() + st_test.text.values.tolist())\n",
    "tfidf_transformer = TfidfTransformer().fit(counts)\n",
    "\n",
    "tfidf_ta = tfidf_transformer.transform(vec.transform(train_ta.text.values))\n",
    "\n",
    "train_ta, val_ta, train_y_ta, val_y_ta = train_test_split(tfidf_ta, train_ta.topic, test_size=0.2)"
   ]
  },
  {
   "cell_type": "code",
   "execution_count": 9,
   "id": "86736fa1",
   "metadata": {},
   "outputs": [
    {
     "data": {
      "text/plain": [
       "(600, 1680)"
      ]
     },
     "execution_count": 9,
     "metadata": {},
     "output_type": "execute_result"
    }
   ],
   "source": [
    "val_ta.shape"
   ]
  },
  {
   "cell_type": "markdown",
   "id": "451443bd-af57-4a11-8168-df5776e0f63d",
   "metadata": {
    "jp-MarkdownHeadingCollapsed": true,
    "tags": []
   },
   "source": [
    "## Training classification models for NERC with BoW"
   ]
  },
  {
   "cell_type": "markdown",
   "id": "43124b29-0655-4bd2-b8fd-bf2d90786468",
   "metadata": {
    "jp-MarkdownHeadingCollapsed": true,
    "tags": []
   },
   "source": [
    "#### SVM hyperparameter tuning and training"
   ]
  },
  {
   "cell_type": "code",
   "execution_count": 10,
   "id": "d7d683fe-5c83-45df-b3f4-1565acdcf984",
   "metadata": {
    "tags": []
   },
   "outputs": [
    {
     "name": "stdout",
     "output_type": "stream",
     "text": [
      "              precision    recall  f1-score   support\n",
      "\n",
      "       B-LOC       0.87      0.80      0.83      1837\n",
      "      B-MISC       0.88      0.74      0.80       922\n",
      "       B-ORG       0.80      0.65      0.72      1341\n",
      "       B-PER       0.88      0.62      0.73      1842\n",
      "       I-LOC       0.72      0.70      0.71       257\n",
      "      I-MISC       0.79      0.51      0.62       346\n",
      "       I-ORG       0.72      0.46      0.56       751\n",
      "       I-PER       0.44      0.87      0.59      1307\n",
      "           O       0.99      0.99      0.99     42759\n",
      "\n",
      "    accuracy                           0.94     51362\n",
      "   macro avg       0.79      0.70      0.73     51362\n",
      "weighted avg       0.95      0.94      0.94     51362\n",
      "\n"
     ]
    }
   ],
   "source": [
    "# hyperparameter tuining the ner model using gridsearch to find the best parameters, repeating the process 5 times (cross validation), to confirm and compensate for randomness. \n",
    "# the result is {'C': 100.0} which is used in the final model. C is the inverse of the regularization strength, so a large C means a small regularization strength.\n",
    "\n",
    "# svm = GridSearchCV(LinearSVC(), {'C': np.logspace(-2, 2, 5)}, scoring='f1_macro', n_jobs=-1)\n",
    "\n",
    "# Takes forever to run so just use the params below\n",
    "# svm.best_params_ = {'C': 100.0}\n",
    "\n",
    "# svm_bow = LinearSVC(C=100, max_iter=10000)\n",
    "# svm_bow.fit(train, ner_train['label'].values)\n",
    "\n",
    "with open('models/NERC/BoW/svm.pkl', 'rb') as f:\n",
    "    svm_bow = pickle.load(f)\n",
    "svm_bow_pred = svm_bow.predict(val)\n",
    "print(classification_report(ner_val['label'].values, svm_bow_pred))"
   ]
  },
  {
   "cell_type": "markdown",
   "id": "e0fc457b-2f9e-4029-8a20-4aaeb5520d67",
   "metadata": {
    "jp-MarkdownHeadingCollapsed": true,
    "tags": []
   },
   "source": [
    "#### Naive Bayes training"
   ]
  },
  {
   "cell_type": "code",
   "execution_count": 11,
   "id": "42ca3cd5-3cc0-4dae-bf1c-d043c425cb5a",
   "metadata": {
    "tags": []
   },
   "outputs": [
    {
     "name": "stdout",
     "output_type": "stream",
     "text": [
      "              precision    recall  f1-score   support\n",
      "\n",
      "       B-LOC       0.43      0.87      0.58      1837\n",
      "      B-MISC       0.90      0.64      0.75       922\n",
      "       B-ORG       0.70      0.54      0.61      1341\n",
      "       B-PER       0.81      0.62      0.70      1842\n",
      "       I-LOC       0.85      0.11      0.20       257\n",
      "      I-MISC       0.93      0.15      0.26       346\n",
      "       I-ORG       0.60      0.42      0.50       751\n",
      "       I-PER       0.73      0.35      0.48      1307\n",
      "           O       0.98      0.99      0.99     42759\n",
      "\n",
      "    accuracy                           0.92     51362\n",
      "   macro avg       0.77      0.52      0.56     51362\n",
      "weighted avg       0.93      0.92      0.92     51362\n",
      "\n"
     ]
    }
   ],
   "source": [
    "# does not have hyperparameters to tune, so just use the default parameters\n",
    "\n",
    "# Naive Bayes doesn't make much sense for such a task but I wanted to have 3 classifiers and training a NN is a bit more of a hassle\n",
    "\n",
    "# nb_bow = MultinomialNB()\n",
    "# nb_bow.fit(train, ner_train['label'].values)\n",
    "\n",
    "with open('models/NERC/BoW/nb.pkl', 'rb') as f:\n",
    "    nb_bow = pickle.load(f)\n",
    "nb_bow_pred = nb_bow.predict(val)\n",
    "print(classification_report(ner_val['label'].values, nb_bow_pred))"
   ]
  },
  {
   "cell_type": "markdown",
   "id": "7c105501-0658-4631-a831-7d848b0cd51f",
   "metadata": {},
   "source": [
    "#### KNN hyperparameter tuning and training"
   ]
  },
  {
   "cell_type": "code",
   "execution_count": 12,
   "id": "5a8d9a52-daed-4b73-9e77-4197675209fc",
   "metadata": {
    "tags": []
   },
   "outputs": [
    {
     "name": "stdout",
     "output_type": "stream",
     "text": [
      "              precision    recall  f1-score   support\n",
      "\n",
      "       B-LOC       0.82      0.70      0.76      1837\n",
      "      B-MISC       0.80      0.63      0.71       922\n",
      "       B-ORG       0.23      0.71      0.35      1341\n",
      "       B-PER       0.86      0.37      0.52      1842\n",
      "       I-LOC       0.70      0.59      0.64       257\n",
      "      I-MISC       0.82      0.38      0.52       346\n",
      "       I-ORG       0.76      0.32      0.45       751\n",
      "       I-PER       0.64      0.14      0.23      1307\n",
      "           O       0.98      0.99      0.99     42759\n",
      "\n",
      "    accuracy                           0.91     51362\n",
      "   macro avg       0.74      0.54      0.57     51362\n",
      "weighted avg       0.93      0.91      0.91     51362\n",
      "\n"
     ]
    }
   ],
   "source": [
    "# hyperparameter tuining the ner model using gridsearch to find the best parameters, repeating the process 5 times (cross validation), to confirm and compensate for randomness.\n",
    "\n",
    "# knn = GridSearchCV(KNeighborsClassifier(),\n",
    "#                    {'n_neighbors': np.arange(2, 14, 2), 'p': [1, 2, 3]},\n",
    "#                    scoring='f1_macro',\n",
    "#                    n_jobs=-1)\n",
    "\n",
    "# Takes forever to run so just use the params below\n",
    "# knn.best_params_ = {'n_neighbors': 12, 'p': 1}\n",
    "\n",
    "# knn_bow = KNeighborsClassifier(n_neighbors=12, p=1, n_jobs=-1)\n",
    "# knn_bow.fit(train, ner_train['label'].values)\n",
    "\n",
    "with open('models/NERC/BoW/knn.pkl', 'rb') as f:\n",
    "    knn_bow = pickle.load(f)\n",
    "knn_bow_pred = knn_bow.predict(val)\n",
    "print(classification_report(ner_val['label'].values, knn_bow_pred))"
   ]
  },
  {
   "cell_type": "markdown",
   "id": "4b07fa87-2278-4664-a061-3ac7ca2d71fa",
   "metadata": {
    "jp-MarkdownHeadingCollapsed": true,
    "tags": []
   },
   "source": [
    "## Training classification models for NERC with word embeddings"
   ]
  },
  {
   "cell_type": "code",
   "execution_count": 13,
   "id": "cca5648c-9f7f-4ebf-a9a4-5e86862fbbe7",
   "metadata": {
    "tags": []
   },
   "outputs": [],
   "source": [
    "word_embedding_model = KeyedVectors.load_word2vec_format('../../GoogleNews-vectors-negative300.bin', binary=True)\n",
    "\n",
    "def to_embedding(word):\n",
    "    if word != '' and word != 'DOCSTART' and word in word_embedding_model:\n",
    "        return word_embedding_model[word]\n",
    "    return [0]*300"
   ]
  },
  {
   "cell_type": "code",
   "execution_count": 14,
   "id": "a867c24e-c20c-42cd-aacb-216e1e3ea70c",
   "metadata": {
    "tags": []
   },
   "outputs": [],
   "source": [
    "train = np.concatenate(ner_train['token'].map(to_embedding).values).reshape(-1, 300)\n",
    "val = np.concatenate(ner_val['token'].map(to_embedding).values).reshape(-1, 300)"
   ]
  },
  {
   "cell_type": "markdown",
   "id": "c10ce869-f11f-4501-9310-7c06266aaf8a",
   "metadata": {
    "tags": []
   },
   "source": [
    "#### SVM hyperparameter tuning and training"
   ]
  },
  {
   "cell_type": "code",
   "execution_count": 15,
   "id": "7f224387-b861-4a32-b975-c338c3289dfc",
   "metadata": {
    "tags": []
   },
   "outputs": [
    {
     "name": "stdout",
     "output_type": "stream",
     "text": [
      "              precision    recall  f1-score   support\n",
      "\n",
      "       B-LOC       0.82      0.80      0.81      1837\n",
      "      B-MISC       0.78      0.69      0.74       922\n",
      "       B-ORG       0.70      0.64      0.67      1341\n",
      "       B-PER       0.78      0.71      0.75      1842\n",
      "       I-LOC       0.61      0.56      0.58       257\n",
      "      I-MISC       0.68      0.43      0.53       346\n",
      "       I-ORG       0.61      0.36      0.45       751\n",
      "       I-PER       0.60      0.57      0.58      1307\n",
      "           O       0.97      1.00      0.98     42759\n",
      "\n",
      "    accuracy                           0.94     51362\n",
      "   macro avg       0.73      0.64      0.68     51362\n",
      "weighted avg       0.93      0.94      0.93     51362\n",
      "\n"
     ]
    }
   ],
   "source": [
    "# svm_we = GridSearchCV(LinearSVC(), {'C': np.logspace(-2, 2, 5)}, scoring='f1_macro', n_jobs=-1)\n",
    "\n",
    "# Takes forever to run so just use the params below\n",
    "# svm.best_params_ = {'C': 10.0}\n",
    "\n",
    "# svm_we = LinearSVC(C=10, max_iter=10000)\n",
    "# svm_we.fit(train, ner_train['label'].values)\n",
    "\n",
    "# #save the model\n",
    "# with open('models/NERC/Embedding/svm.pkl', 'wb') as f:\n",
    "#     pickle.dump(svm_we, f)\n",
    "\n",
    "with open('models/NERC/Embedding/svm.pkl', 'rb') as f:\n",
    "    svm_we = pickle.load(f)\n",
    "svm_we_pred = svm_we.predict(val)\n",
    "print(classification_report(ner_val['label'].values, svm_we_pred))"
   ]
  },
  {
   "cell_type": "markdown",
   "id": "da732fbc-dd9e-4538-854b-ed95498d1282",
   "metadata": {},
   "source": [
    "#### KNN training"
   ]
  },
  {
   "cell_type": "code",
   "execution_count": 16,
   "id": "6d84a339-e58a-4a92-9298-c81b6384397d",
   "metadata": {
    "tags": []
   },
   "outputs": [
    {
     "name": "stdout",
     "output_type": "stream",
     "text": [
      "              precision    recall  f1-score   support\n",
      "\n",
      "       B-LOC       0.80      0.83      0.81      1837\n",
      "      B-MISC       0.77      0.72      0.74       922\n",
      "       B-ORG       0.69      0.65      0.67      1341\n",
      "       B-PER       0.74      0.70      0.72      1842\n",
      "       I-LOC       0.68      0.52      0.59       257\n",
      "      I-MISC       0.74      0.46      0.57       346\n",
      "       I-ORG       0.62      0.43      0.51       751\n",
      "       I-PER       0.55      0.57      0.56      1307\n",
      "           O       0.98      0.99      0.99     42759\n",
      "\n",
      "    accuracy                           0.94     51362\n",
      "   macro avg       0.73      0.65      0.68     51362\n",
      "weighted avg       0.93      0.94      0.93     51362\n",
      "\n"
     ]
    }
   ],
   "source": [
    "# knn_we = KNeighborsClassifier() # Too inefficient to run grid search\n",
    "# knn_we.fit(train, ner_train['label'].values)\n",
    "\n",
    "# #save the model\n",
    "# with open('models/NERC/Embedding/knn.pkl', 'wb') as f:\n",
    "#     pickle.dump(knn_we, f)\n",
    "\n",
    "with open('models/NERC/Embedding/knn.pkl', 'rb') as f:\n",
    "    knn_we = pickle.load(f)\n",
    "knn_we_pred = knn_we.predict(val)\n",
    "print(classification_report(ner_val['label'].values, knn_we_pred))"
   ]
  },
  {
   "cell_type": "markdown",
   "id": "dadc9c2e-5daa-4e72-a85e-c1faa004e46d",
   "metadata": {
    "tags": []
   },
   "source": [
    "#### Random Forest hyperparameter tuning and training"
   ]
  },
  {
   "cell_type": "code",
   "execution_count": 17,
   "id": "db7dd0e3-5b23-4ab4-a910-3913bf24bcd1",
   "metadata": {
    "tags": []
   },
   "outputs": [
    {
     "name": "stdout",
     "output_type": "stream",
     "text": [
      "              precision    recall  f1-score   support\n",
      "\n",
      "       B-LOC       0.86      0.82      0.84      1837\n",
      "      B-MISC       0.87      0.72      0.78       922\n",
      "       B-ORG       0.77      0.63      0.69      1341\n",
      "       B-PER       0.86      0.69      0.77      1842\n",
      "       I-LOC       0.71      0.69      0.70       257\n",
      "      I-MISC       0.79      0.50      0.61       346\n",
      "       I-ORG       0.69      0.46      0.55       751\n",
      "       I-PER       0.67      0.52      0.59      1307\n",
      "           O       0.96      1.00      0.98     42759\n",
      "\n",
      "    accuracy                           0.94     51362\n",
      "   macro avg       0.80      0.67      0.72     51362\n",
      "weighted avg       0.94      0.94      0.94     51362\n",
      "\n"
     ]
    }
   ],
   "source": [
    "# rf_we = GridSearchCV(RandomForestClassifier(),\n",
    "#                      {'n_estimators': np.arange(50, 151, 25), 'max_depth': [5, 10, 15, None]},\n",
    "#                      scoring='f1_macro',\n",
    "#                      n_jobs=-1)\n",
    "\n",
    "# Takes forever to run so just use the params below\n",
    "# rf_we.best_params = {'max_depth': None, 'n_estimators': 50}\n",
    "\n",
    "# rf_we = RandomForestClassifier(n_estimators=50, max_depth=None)\n",
    "# rf_we.fit(train, ner_train['label'].values)\n",
    "\n",
    "# # save the model\n",
    "# with open('models/NERC/Embedding/rf.pkl', 'wb') as f:\n",
    "#     pickle.dump(rf_we, f)\n",
    "\n",
    "with open('models/NERC/Embedding/rf.pkl', 'rb') as f:\n",
    "    rf_we = pickle.load(f)\n",
    "rf_we_pred = rf_we.predict(val)\n",
    "print(classification_report(ner_val['label'].values, rf_we_pred))"
   ]
  },
  {
   "cell_type": "markdown",
   "id": "77222bea-8d44-46b0-a1ec-912ae9d2dc6a",
   "metadata": {
    "jp-MarkdownHeadingCollapsed": true,
    "tags": []
   },
   "source": [
    "## Plots"
   ]
  },
  {
   "cell_type": "code",
   "execution_count": 18,
   "id": "a15d845d-15d7-412c-8c65-0d313c29504f",
   "metadata": {
    "tags": []
   },
   "outputs": [
    {
     "data": {
      "image/png": "[encoded data removed]",
      "text/plain": [
       "<Figure size 1152x576 with 1 Axes>"
      ]
     },
     "metadata": {
      "needs_background": "light"
     },
     "output_type": "display_data"
    }
   ],
   "source": [
    "x = np.arange(0, 9)\n",
    "plt.figure(figsize=(16, 8))\n",
    "plt.bar(x - 0.3, height=f1_score(ner_val['label'], svm_bow_pred, average=None), width=0.3, label='SVM')\n",
    "plt.bar(x, height=f1_score(ner_val['label'], nb_bow_pred, average=None), width=0.3, label='Naive Bayes')\n",
    "plt.bar(x + 0.3, height=f1_score(ner_val['label'], knn_bow_pred, average=None), width=0.3, label='KNN')\n",
    "plt.title('Models trained with BoW', fontsize=20)\n",
    "plt.xticks(x, labels=sorted(ner_train.label.unique()), rotation=45, fontsize=14)\n",
    "plt.ylabel('F1 score', fontsize=14)\n",
    "plt.legend(fontsize=14)\n",
    "plt.savefig('Plots/BoW models.png')\n",
    "plt.show()"
   ]
  },
  {
   "cell_type": "code",
   "execution_count": 19,
   "id": "4fd4bbf3-320a-4dba-93eb-9db7bacc7063",
   "metadata": {
    "tags": []
   },
   "outputs": [
    {
     "data": {
      "image/png": "[encoded data removed]",
      "text/plain": [
       "<Figure size 1152x576 with 1 Axes>"
      ]
     },
     "metadata": {
      "needs_background": "light"
     },
     "output_type": "display_data"
    }
   ],
   "source": [
    "plt.figure(figsize=(16, 8))\n",
    "plt.bar(x - 0.3, height=f1_score(ner_val['label'], svm_we_pred, average=None), width=0.3, label='SVM')\n",
    "plt.bar(x, height=f1_score(ner_val['label'], rf_we_pred, average=None), width=0.3, label='Random Forest')\n",
    "plt.bar(x + 0.3, height=f1_score(ner_val['label'], knn_we_pred, average=None), width=0.3, label='KNN')\n",
    "plt.title('Models trained with word embeddings', fontsize=20)\n",
    "plt.xticks(x, labels=sorted(ner_train.label.unique()), rotation=45, fontsize=14)\n",
    "plt.ylabel('F1 score', fontsize=14)\n",
    "plt.legend(fontsize=14)\n",
    "plt.savefig('Plots/WE models.png')\n",
    "plt.show()"
   ]
  },
  {
   "cell_type": "code",
   "execution_count": 20,
   "id": "342a2796",
   "metadata": {},
   "outputs": [
    {
     "name": "stdout",
     "output_type": "stream",
     "text": [
      "                token  pos  label\n",
      "0             CRICKET  NNP      O\n",
      "1                   -    :      O\n",
      "2      LEICESTERSHIRE  NNP  B-ORG\n",
      "3                TAKE  NNP      O\n",
      "4                OVER   IN      O\n",
      "...               ...  ...    ...\n",
      "51357               .    .      O\n",
      "51358              --    :      O\n",
      "51359           Dhaka  NNP  B-ORG\n",
      "51360        Newsroom  NNP  I-ORG\n",
      "51361    880-2-506363   CD      O\n",
      "\n",
      "[51362 rows x 3 columns]\n"
     ]
    }
   ],
   "source": [
    "print(ner_val)"
   ]
  },
  {
   "cell_type": "code",
   "execution_count": 21,
   "id": "2a71931b",
   "metadata": {},
   "outputs": [],
   "source": [
    "#reshape the test set to be the same shape as the validation set\n",
    "test_bow = v.transform(ner_test[['token', 'pos']].T.to_dict().values())\n",
    "test_we = np.concatenate(ner_test['token'].map(to_embedding).values).reshape(-1, 300)\n",
    "\n",
    "#generate the predictions for the test set over all the models, and save them each as a variable\n",
    "test_pred_svm_bow = svm_bow.predict(test_bow)\n",
    "test_pred_nb_bow = nb_bow.predict(test_bow)\n",
    "test_pred_knn_bow = knn_bow.predict(test_bow)\n",
    "test_pred_svm_we = svm_we.predict(test_we)\n",
    "test_pred_rf_we = rf_we.predict(test_we)\n",
    "test_pred_knn_we = knn_we.predict(test_we)\n",
    "\n",
    "\n"
   ]
  },
  {
   "cell_type": "code",
   "execution_count": 22,
   "id": "2399625f",
   "metadata": {},
   "outputs": [
    {
     "name": "stdout",
     "output_type": "stream",
     "text": [
      "['O' 'O' 'O' 'O' 'O' 'B-ORG' 'I-ORG' 'O' 'O' 'O' 'O' 'O' 'O' 'O' 'O' 'O'\n",
      " 'O' 'O' 'O' 'B-ORG' 'I-ORG' 'I-ORG' 'O' 'O' 'O' 'O' 'O' 'B-LOC' 'O' 'O'\n",
      " 'O' 'O' 'O' 'O' 'O' 'O' 'O' 'O' 'B-MISC' 'O' 'O' 'O' 'O' 'O' 'O' 'O' 'O'\n",
      " 'O' 'O' 'O' 'O' 'O' 'O' 'O' 'O' 'O' 'O' 'O' 'O' 'O' 'O' 'O' 'O' 'O' 'O'\n",
      " 'O' 'O' 'O' 'O' 'O' 'O' 'O' 'B-PER' 'I-PER' 'O' 'O' 'O' 'O' 'O' 'O' 'O'\n",
      " 'O' 'O' 'O' 'O' 'O' 'O' 'O' 'O' 'B-PER' 'I-PER' 'O' 'O' 'B-PER' 'I-PER'\n",
      " 'I-PER' 'O' 'O' 'O' 'O' 'O' 'O' 'B-MISC' 'I-MISC' 'O' 'O' 'O' 'O' 'O'\n",
      " 'B-ORG' 'O' 'B-PER' 'I-PER' 'O' 'O' 'O' 'O' 'O' 'O' 'O' 'O' 'O' 'O' 'O'\n",
      " 'O' 'O' 'O' 'O' 'O' 'O' 'O' 'O' 'O' 'O' 'O' 'O' 'O' 'B-LOC' 'O' 'O' 'O'\n",
      " 'O' 'O' 'O' 'O' 'O' 'O' 'O' 'O' 'O' 'O' 'B-ORG' 'O' 'O' 'O' 'O' 'O' 'O'\n",
      " 'O' 'O' 'B-PER' 'I-PER' 'I-PER' 'O' 'O' 'O' 'O' 'O' 'O' 'O' 'O' 'O' 'O'\n",
      " 'O' 'O' 'O' 'O' 'O' 'O' 'O' 'B-PER' 'I-PER' 'O' 'O' 'O' 'B-LOC' 'I-LOC'\n",
      " 'O' 'O' 'O' 'O' 'O' 'O' 'O' 'B-LOC' 'I-LOC' 'O' 'O' 'O' 'O' 'O' 'B-MISC'\n",
      " 'O' 'O' 'O' 'O' 'O' 'O' 'O' 'O' 'O' 'O' 'O' 'O']\n",
      "['O' 'O' 'O' 'O' 'O' 'I-PER' 'B-ORG' 'O' 'O' 'O' 'O' 'O' 'O' 'O' 'O' 'O'\n",
      " 'O' 'O' 'O' 'B-LOC' 'I-LOC' 'O' 'O' 'O' 'O' 'O' 'O' 'B-LOC' 'O' 'O' 'O'\n",
      " 'O' 'O' 'O' 'O' 'O' 'O' 'O' 'B-MISC' 'O' 'O' 'O' 'O' 'O' 'O' 'O' 'O' 'O'\n",
      " 'O' 'O' 'O' 'O' 'O' 'O' 'O' 'O' 'O' 'O' 'O' 'O' 'O' 'O' 'O' 'O' 'O' 'O'\n",
      " 'O' 'O' 'O' 'O' 'O' 'O' 'B-PER' 'B-PER' 'O' 'O' 'O' 'O' 'O' 'O' 'O' 'O'\n",
      " 'O' 'O' 'O' 'O' 'O' 'O' 'O' 'B-PER' 'I-PER' 'O' 'O' 'B-LOC' 'I-PER' 'O'\n",
      " 'O' 'O' 'O' 'O' 'O' 'O' 'B-MISC' 'B-MISC' 'O' 'O' 'O' 'O' 'O' 'B-ORG' 'O'\n",
      " 'B-PER' 'I-PER' 'O' 'O' 'O' 'O' 'O' 'O' 'O' 'O' 'O' 'O' 'O' 'O' 'O' 'O'\n",
      " 'O' 'O' 'O' 'O' 'O' 'O' 'O' 'O' 'O' 'O' 'B-LOC' 'O' 'O' 'O' 'O' 'O' 'O'\n",
      " 'O' 'O' 'O' 'O' 'O' 'O' 'O' 'O' 'O' 'O' 'O' 'O' 'O' 'O' 'O' 'O' 'I-PER'\n",
      " 'B-PER' 'I-PER' 'O' 'O' 'O' 'O' 'O' 'O' 'O' 'O' 'O' 'O' 'O' 'O' 'O' 'O'\n",
      " 'O' 'O' 'O' 'O' 'O' 'O' 'O' 'O' 'B-LOC' 'I-LOC' 'O' 'O' 'O' 'O' 'O' 'O'\n",
      " 'O' 'B-ORG' 'I-LOC' 'O' 'O' 'O' 'O' 'O' 'B-MISC' 'O' 'O' 'O' 'O' 'O' 'O'\n",
      " 'O' 'O' 'O' 'O' 'O' 'O']\n"
     ]
    }
   ],
   "source": [
    "#print all the values from the 'tag' column in the ner_test set\n",
    "print(ner_test['BIO NER tag'].values)\n",
    "print(test_pred_svm_we)"
   ]
  },
  {
   "cell_type": "code",
   "execution_count": 23,
   "metadata": {},
   "outputs": [
    {
     "name": "stdout",
     "output_type": "stream",
     "text": [
      "[0.47058824 0.85714286 0.33333333 0.54545455 0.         0.\n",
      " 0.66666667 0.36363636 0.9972752 ]\n",
      "0.47045524509861747\n"
     ]
    }
   ],
   "source": [
    "print(f1_score(ner_test['BIO NER tag'].values, test_pred_nb_bow, average=None))\n",
    "\n",
    "#take the average of the f1 scores for each class\n",
    "print(f1_score(ner_test['BIO NER tag'].values, test_pred_nb_bow, average='macro'))"
   ]
  },
  {
   "cell_type": "code",
   "execution_count": 24,
   "id": "380d4561",
   "metadata": {},
   "outputs": [
    {
     "data": {
      "image/png": "[encoded data removed]",
      "text/plain": [
       "<Figure size 1008x576 with 1 Axes>"
      ]
     },
     "metadata": {
      "needs_background": "light"
     },
     "output_type": "display_data"
    }
   ],
   "source": [
    "bar_width = 0.5\n",
    "\n",
    "plt.figure(figsize=(14, 8))\n",
    "#generate the plot for all the models over the test set, using the macro f1 score\n",
    "plt.bar(1, height=f1_score(ner_test['BIO NER tag'].values, test_pred_svm_bow, average='macro'), width=bar_width, label='SVM BoW')\n",
    "plt.bar(2, height=f1_score(ner_test['BIO NER tag'].values, test_pred_nb_bow, average='macro'), width=bar_width, label='Naive Bayes BoW')\n",
    "plt.bar(3, height=f1_score(ner_test['BIO NER tag'].values, test_pred_knn_bow, average='macro'), width=bar_width, label='KNN BoW')\n",
    "plt.bar(4, height=f1_score(ner_test['BIO NER tag'].values, test_pred_svm_we, average='macro'), width=bar_width, label='SVM WE')\n",
    "plt.bar(5, height=f1_score(ner_test['BIO NER tag'].values, test_pred_rf_we, average='macro'), width=bar_width, label='Random Forest WE')\n",
    "plt.bar(6, height=f1_score(ner_test['BIO NER tag'].values, test_pred_knn_we, average='macro'), width=bar_width, label='KNN WE')\n",
    "\n",
    "\n",
    "#increase the size of the numbers on the y axis\n",
    "plt.yticks(fontsize=16)\n",
    "\n",
    "#remove the ticks on the x axis\n",
    "plt.xticks([])\n",
    "\n",
    "#add a horizontal line the highest f1 score\n",
    "plt.axhline(y=max([f1_score(ner_test['BIO NER tag'].values, test_pred_svm_bow, average='macro'),\n",
    "                     f1_score(ner_test['BIO NER tag'].values, test_pred_nb_bow, average='macro'),\n",
    "                        f1_score(ner_test['BIO NER tag'].values, test_pred_knn_bow, average='macro'),\n",
    "                        f1_score(ner_test['BIO NER tag'].values, test_pred_svm_we, average='macro'),\n",
    "                        f1_score(ner_test['BIO NER tag'].values, test_pred_rf_we, average='macro'),\n",
    "                        f1_score(ner_test['BIO NER tag'].values, test_pred_knn_we, average='macro')]), color='r', linestyle='--')\n",
    "\n",
    "#add a title\n",
    "plt.title('NERC MODELS: Macro F1 score for each model over Test set', fontsize=20)\n",
    "\n",
    "plt.ylabel('F1 score', fontsize=18)\n",
    "plt.legend(fontsize=14)\n",
    "plt.savefig('Plots/nerc test results.png')\n",
    "plt.show()"
   ]
  },
  {
   "cell_type": "markdown",
   "id": "a4642893-1f7e-4d0a-b58b-8812de8d004a",
   "metadata": {},
   "source": [
    "### The best model\n",
    "Is an SVM trained with a bag of words representation."
   ]
  },
  {
   "cell_type": "code",
   "execution_count": 25,
   "id": "67639358-e5e1-4dc9-8722-1b6f824169a1",
   "metadata": {
    "tags": []
   },
   "outputs": [
    {
     "name": "stdout",
     "output_type": "stream",
     "text": [
      "              precision    recall  f1-score   support\n",
      "\n",
      "       B-LOC       0.50      0.50      0.50         4\n",
      "      B-MISC       0.75      1.00      0.86         3\n",
      "       B-ORG       0.00      0.00      0.00         4\n",
      "       B-PER       0.75      0.50      0.60         6\n",
      "       I-LOC       0.67      1.00      0.80         2\n",
      "      I-MISC       0.00      0.00      0.00         1\n",
      "       I-ORG       0.50      0.67      0.57         3\n",
      "       I-PER       0.64      0.88      0.74         8\n",
      "           O       0.99      1.00      1.00       183\n",
      "\n",
      "    accuracy                           0.94       214\n",
      "   macro avg       0.53      0.62      0.56       214\n",
      "weighted avg       0.93      0.94      0.93       214\n",
      "\n"
     ]
    }
   ],
   "source": [
    "print(classification_report(ner_test['BIO NER tag'], svm_bow.predict(v.transform(ner_test[['token', 'pos']].T.to_dict().values())), zero_division=0))"
   ]
  },
  {
   "cell_type": "markdown",
   "id": "43e0f5e0-5ae5-4ac6-b497-a47318fd1940",
   "metadata": {
    "jp-MarkdownHeadingCollapsed": true,
    "tags": []
   },
   "source": [
    "## Sentiment analysis and classification"
   ]
  },
  {
   "cell_type": "markdown",
   "id": "7df5fa45-99d2-4682-86c5-55b7b0e15629",
   "metadata": {
    "jp-MarkdownHeadingCollapsed": true,
    "tags": []
   },
   "source": [
    "### Using VADER"
   ]
  },
  {
   "cell_type": "code",
   "execution_count": 26,
   "id": "b2a2704a-a5aa-4624-a12c-c1c9595b5ed5",
   "metadata": {},
   "outputs": [],
   "source": [
    "def vader_output_to_label(vader_output):\n",
    "    compound = vader_output['compound']\n",
    "    if compound < 0:\n",
    "        return 'negative'\n",
    "    elif compound == 0.0:\n",
    "        return 'neutral'\n",
    "    return 'positive'\n",
    "\n",
    "vader_model = SentimentIntensityAnalyzer()"
   ]
  },
  {
   "cell_type": "code",
   "execution_count": 27,
   "id": "51127222-c9f9-4bf9-ad44-c33f38e21c35",
   "metadata": {},
   "outputs": [
    {
     "name": "stdout",
     "output_type": "stream",
     "text": [
      "              precision    recall  f1-score   support\n",
      "\n",
      "    negative       1.00      0.33      0.50         3\n",
      "     neutral       1.00      0.33      0.50         3\n",
      "    positive       0.50      1.00      0.67         4\n",
      "\n",
      "    accuracy                           0.60        10\n",
      "   macro avg       0.83      0.56      0.56        10\n",
      "weighted avg       0.80      0.60      0.57        10\n",
      "\n"
     ]
    }
   ],
   "source": [
    "vader_pred = [vader_output_to_label(vader_model.polarity_scores(text)) for text in st_test.text.values]\n",
    "print(classification_report(st_test.sentiment.values, vader_pred, target_names=sa_train.target_names))"
   ]
  },
  {
   "cell_type": "markdown",
   "id": "ddd7b841",
   "metadata": {},
   "source": []
  },
  {
   "cell_type": "markdown",
   "id": "c47b296f-f8a1-4c0a-94ab-7bcdefb77c8b",
   "metadata": {},
   "source": [
    "### Using conventional models"
   ]
  },
  {
   "cell_type": "markdown",
   "id": "f8b22d28-9a71-4713-984d-9904d626328e",
   "metadata": {
    "tags": []
   },
   "source": [
    "#### SVM hyperparameter tuning and training"
   ]
  },
  {
   "cell_type": "code",
   "execution_count": 28,
   "id": "c6c9f98e-1a23-4e95-9bea-606fecccf07a",
   "metadata": {},
   "outputs": [
    {
     "name": "stdout",
     "output_type": "stream",
     "text": [
      "              precision    recall  f1-score   support\n",
      "\n",
      "    negative       0.87      0.88      0.87       386\n",
      "     neutral       0.78      0.78      0.78       294\n",
      "    positive       0.84      0.83      0.84       271\n",
      "\n",
      "    accuracy                           0.83       951\n",
      "   macro avg       0.83      0.83      0.83       951\n",
      "weighted avg       0.83      0.83      0.83       951\n",
      "\n"
     ]
    }
   ],
   "source": [
    "# svm_sa = GridSearchCV(LinearSVC(), {'C': np.logspace(-2, 2, 5)}, scoring='f1_macro', n_jobs=-1)\n",
    "\n",
    "with open('models/Sentiment/svm.pkl', 'rb') as f:\n",
    "    svm_sa = pickle.load(f)\n",
    "svm_sa.fit(tfidf_train, tfidf_y_train)\n",
    "svm_sa_pred = svm_sa.predict(tfidf_val)\n",
    "print(classification_report(tfidf_y_val, svm_sa_pred, target_names=sa_train.target_names))"
   ]
  },
  {
   "cell_type": "markdown",
   "id": "8d0b24e8-e0fa-464d-899a-b0e4fd4ea605",
   "metadata": {},
   "source": [
    "#### Naive Bayes training"
   ]
  },
  {
   "cell_type": "code",
   "execution_count": 29,
   "id": "cb675481-f6db-41bd-bb33-fd137f35f19b",
   "metadata": {},
   "outputs": [
    {
     "name": "stdout",
     "output_type": "stream",
     "text": [
      "              precision    recall  f1-score   support\n",
      "\n",
      "    negative       0.89      0.94      0.91       386\n",
      "     neutral       0.90      0.81      0.85       294\n",
      "    positive       0.88      0.90      0.89       271\n",
      "\n",
      "    accuracy                           0.89       951\n",
      "   macro avg       0.89      0.88      0.89       951\n",
      "weighted avg       0.89      0.89      0.89       951\n",
      "\n"
     ]
    }
   ],
   "source": [
    "# nb_sa = MultinomialNB()\n",
    "# nb_sa.fit(tfidf_train, tfidf_y_train)\n",
    "\n",
    "with open('models/Sentiment/nb.pkl', 'rb') as f:\n",
    "    nb_sa = pickle.load(f)\n",
    "nb_sa_pred = nb_sa.predict(tfidf_val)\n",
    "print(classification_report(tfidf_y_val, nb_sa_pred, target_names=sa_train.target_names))"
   ]
  },
  {
   "cell_type": "markdown",
   "id": "9c274052-cddd-4499-9204-0470ac6cde48",
   "metadata": {},
   "source": [
    "### Naive Bayes\n",
    "Is best for sentiment analysis. The bad results are because of a different dsitribution than the one trained on."
   ]
  },
  {
   "cell_type": "code",
   "execution_count": 30,
   "id": "47dd113e-7484-4f95-9f1b-937bdaf1d27c",
   "metadata": {
    "tags": []
   },
   "outputs": [
    {
     "name": "stdout",
     "output_type": "stream",
     "text": [
      "              precision    recall  f1-score   support\n",
      "\n",
      "    negative       0.40      0.67      0.50         3\n",
      "     neutral       0.50      0.33      0.40         3\n",
      "    positive       0.33      0.25      0.29         4\n",
      "\n",
      "    accuracy                           0.40        10\n",
      "   macro avg       0.41      0.42      0.40        10\n",
      "weighted avg       0.40      0.40      0.38        10\n",
      "\n"
     ]
    }
   ],
   "source": [
    "print(classification_report(st_test.sentiment, [sa_train.target_names[i] for i in nb_sa.predict(tfidf_test)]))"
   ]
  },
  {
   "cell_type": "markdown",
   "id": "3340b65a-65de-470c-954d-fd37551e7d8f",
   "metadata": {},
   "source": [
    "## Topic analysis and classification"
   ]
  },
  {
   "cell_type": "markdown",
   "id": "068896e7-fe93-4ef8-896b-f11261e339b3",
   "metadata": {},
   "source": [
    "### Using conventional models"
   ]
  },
  {
   "cell_type": "markdown",
   "id": "c9fcbfdc-d3bf-41a5-8b3c-0bff59a07a85",
   "metadata": {
    "tags": []
   },
   "source": [
    "#### SVM hyperparameter tuning and training"
   ]
  },
  {
   "cell_type": "code",
   "execution_count": 31,
   "id": "0f9420e0-b59d-4619-83a6-d18898f40d3a",
   "metadata": {
    "tags": []
   },
   "outputs": [
    {
     "name": "stdout",
     "output_type": "stream",
     "text": [
      "              precision    recall  f1-score   support\n",
      "\n",
      "        book       0.99      0.97      0.98       202\n",
      "       movie       0.94      0.88      0.91       203\n",
      "  restaurant       0.87      0.95      0.91       195\n",
      "\n",
      "    accuracy                           0.93       600\n",
      "   macro avg       0.94      0.93      0.93       600\n",
      "weighted avg       0.94      0.93      0.93       600\n",
      "\n"
     ]
    }
   ],
   "source": [
    "# svm_ta = GridSearchCV(LinearSVC(), {'C': np.logspace(-2, 2, 5)}, scoring='f1_macro', n_jobs=-1)\n",
    "# svm_ta.fit(train_ta, train_y_ta)\n",
    "\n",
    "# with open('models/Topic/svm.pkl', 'wb') as f:\n",
    "#     pickle.dump(svm_ta.best_estimator_, f)\n",
    "\n",
    "with open('models/Topic/svm.pkl', 'rb') as f:\n",
    "    svm_ta = pickle.load(f)\n",
    "svm_ta_pred = svm_ta.predict(val_ta)\n",
    "print(classification_report(val_y_ta, svm_ta_pred))"
   ]
  },
  {
   "cell_type": "markdown",
   "id": "6e01f80e-e4c0-4824-81b3-4c50734a92e4",
   "metadata": {},
   "source": [
    "#### Naive Bayes training"
   ]
  },
  {
   "cell_type": "code",
   "execution_count": 32,
   "id": "f3f0c67a-4ae5-43e0-8d7a-15329d76729e",
   "metadata": {},
   "outputs": [
    {
     "name": "stdout",
     "output_type": "stream",
     "text": [
      "              precision    recall  f1-score   support\n",
      "\n",
      "        book       0.87      0.99      0.92       202\n",
      "       movie       0.92      0.84      0.88       203\n",
      "  restaurant       0.93      0.88      0.91       195\n",
      "\n",
      "    accuracy                           0.90       600\n",
      "   macro avg       0.91      0.90      0.90       600\n",
      "weighted avg       0.91      0.90      0.90       600\n",
      "\n"
     ]
    }
   ],
   "source": [
    "# nb_ta = MultinomialNB()\n",
    "# nb_ta.fit(train_ta, train_y_ta)\n",
    "\n",
    "# with open('models/Topic/nb.pkl', 'wb') as f:\n",
    "#     pickle.dump(nb_ta, f)\n",
    "\n",
    "with open('models/Topic/nb.pkl', 'rb') as f:\n",
    "    nb_ta = pickle.load(f)\n",
    "nb_ta_pred = nb_ta.predict(val_ta)\n",
    "print(classification_report(val_y_ta, nb_ta_pred))"
   ]
  },
  {
   "cell_type": "markdown",
   "id": "41f51743-1a4d-4339-bb8e-bbb6652320fd",
   "metadata": {},
   "source": [
    "### SVM\n",
    "slightly outperforms naive bayes in topic classification."
   ]
  },
  {
   "cell_type": "code",
   "execution_count": 33,
   "id": "aee0dc18-557b-47a4-964d-e9d9837a7880",
   "metadata": {
    "tags": []
   },
   "outputs": [
    {
     "name": "stdout",
     "output_type": "stream",
     "text": [
      "              precision    recall  f1-score   support\n",
      "\n",
      "        book       1.00      1.00      1.00         2\n",
      "       movie       1.00      1.00      1.00         5\n",
      "  restaurant       1.00      1.00      1.00         3\n",
      "\n",
      "    accuracy                           1.00        10\n",
      "   macro avg       1.00      1.00      1.00        10\n",
      "weighted avg       1.00      1.00      1.00        10\n",
      "\n"
     ]
    }
   ],
   "source": [
    "print(classification_report(st_test.topic, svm_ta.predict(tfidf_transformer.transform(vec.transform(st_test.text.values)))))"
   ]
  },
  {
   "cell_type": "markdown",
   "id": "d7febf74-5192-42d1-b9c7-83ba086f7681",
   "metadata": {},
   "source": [
    "### Using LDA"
   ]
  },
  {
   "cell_type": "code",
   "execution_count": 34,
   "id": "7b34e03b",
   "metadata": {},
   "outputs": [
    {
     "name": "stderr",
     "output_type": "stream",
     "text": [
      "[nltk_data] Downloading package wordnet to\n",
      "[nltk_data]     C:\\Users\\Luke\\AppData\\Roaming\\nltk_data...\n",
      "[nltk_data]   Package wordnet is already up-to-date!\n"
     ]
    },
    {
     "data": {
      "text/plain": [
       "True"
      ]
     },
     "execution_count": 34,
     "metadata": {},
     "output_type": "execute_result"
    }
   ],
   "source": [
    "import nltk\n",
    "nltk.download('wordnet')"
   ]
  },
  {
   "cell_type": "code",
   "execution_count": 35,
   "id": "ab535411-fb5f-401f-a8e6-22ba140a5fac",
   "metadata": {},
   "outputs": [],
   "source": [
    "lemmatizer = WordNetLemmatizer()\n",
    "preprocess = lambda x: [lemmatizer.lemmatize(token) for token in simple_preprocess(x) if token not in STOPWORDS]\n",
    "docs = pd.concat([restaurants, books, movies]).groupby('topic').sample(len(restaurants)).sample(frac=1).text.map(preprocess)\n",
    "dictionary = Dictionary(docs)\n",
    "dictionary.filter_extremes(no_below=1, no_above=0.5, keep_n=100000)\n",
    "bow_corpus = [dictionary.doc2bow(doc) for doc in docs]"
   ]
  },
  {
   "cell_type": "code",
   "execution_count": 36,
   "id": "e9c0995e-f762-4cc4-8620-ef5f7c61f940",
   "metadata": {
    "tags": []
   },
   "outputs": [],
   "source": [
    "lda_ta = LdaMulticore(bow_corpus, num_topics=3, id2word=dictionary, passes=5, workers=2)"
   ]
  },
  {
   "cell_type": "code",
   "execution_count": 37,
   "id": "bbafc7c7-f0cf-4158-af07-182b574cbfaf",
   "metadata": {
    "tags": []
   },
   "outputs": [
    {
     "name": "stdout",
     "output_type": "stream",
     "text": [
      "Topic: 0 Word: 0.035*\"book\" + 0.020*\"read\" + 0.019*\"character\" + 0.014*\"story\" + 0.010*\"good\" + 0.008*\"like\" + 0.008*\"time\" + 0.008*\"movie\" + 0.007*\"girl\" + 0.007*\"end\"\n",
      "Topic: 1 Word: 0.017*\"book\" + 0.013*\"character\" + 0.012*\"like\" + 0.007*\"time\" + 0.007*\"train\" + 0.007*\"read\" + 0.007*\"rachel\" + 0.006*\"girl\" + 0.006*\"film\" + 0.005*\"life\"\n",
      "Topic: 2 Word: 0.021*\"book\" + 0.017*\"character\" + 0.012*\"story\" + 0.008*\"read\" + 0.008*\"place\" + 0.007*\"good\" + 0.006*\"best\" + 0.006*\"like\" + 0.006*\"reading\" + 0.006*\"great\"\n"
     ]
    }
   ],
   "source": [
    "for idx, topic in lda_ta.print_topics(-1):\n",
    "    print('Topic: {} Word: {}'.format(idx, topic))"
   ]
  },
  {
   "cell_type": "code",
   "execution_count": 38,
   "id": "692d5377",
   "metadata": {},
   "outputs": [
    {
     "name": "stdout",
     "output_type": "stream",
     "text": [
      "['negative' 'positive' 'negative' 'positive' 'neutral' 'neutral'\n",
      " 'positive' 'positive' 'neutral' 'negative']\n",
      "['movie' 'restaurant' 'restaurant' 'book' 'movie' 'movie' 'restaurant'\n",
      " 'movie' 'movie' 'book']\n"
     ]
    }
   ],
   "source": [
    "print(st_test['sentiment'].values)\n",
    "print(st_test['topic'].values)"
   ]
  },
  {
   "cell_type": "code",
   "execution_count": 60,
   "id": "c0fbf6f5",
   "metadata": {},
   "outputs": [
    {
     "name": "stdout",
     "output_type": "stream",
     "text": [
      "[0 2 1 0 0 0 1 0 1 0]\n",
      "0.4000000000000001\n"
     ]
    }
   ],
   "source": [
    "sa_smv_test =  svm_sa.predict(tfidf_test)\n",
    "sa_nb_test = nb_sa.predict(tfidf_test)\n",
    "sa_vader_test = [vader_output_to_label(vader_model.polarity_scores(text)) for text in st_test.text.values]\n",
    "\n",
    "ta_smv_test = svm_ta.predict(tfidf_transformer.transform(vec.transform(st_test.text.values)))\n",
    "ta_nb_test = nb_ta.predict(tfidf_transformer.transform(vec.transform(st_test.text.values)))\n",
    "\n",
    "print(sa_smv_test)\n",
    "print(f1_score(st_test.sentiment, [sa_train.target_names[i] for i in nb_sa.predict(tfidf_test)], average='micro', zero_division=1))"
   ]
  },
  {
   "cell_type": "code",
   "execution_count": 67,
   "id": "49a049a7",
   "metadata": {},
   "outputs": [
    {
     "data": {
      "image/png": "[encoded data removed]",
      "text/plain": [
       "<Figure size 720x432 with 1 Axes>"
      ]
     },
     "metadata": {
      "needs_background": "light"
     },
     "output_type": "display_data"
    }
   ],
   "source": [
    "bar_width = 0.5\n",
    "\n",
    "plt.figure(figsize=(10, 6))\n",
    "#generate the plot for all the models over the test set, using the macro f1 score\n",
    "plt.bar(1, f1_score(st_test.sentiment, [sa_train.target_names[i] for i in svm_sa.predict(tfidf_test)], average='micro', zero_division=1), width=bar_width, label='SA SVM')\n",
    "plt.bar(2, f1_score(st_test.sentiment, [sa_train.target_names[i] for i in nb_sa.predict(tfidf_test)], average='micro', zero_division=1), width=bar_width, label='SA NB')\n",
    "plt.bar(3, f1_score(st_test['sentiment'].values, sa_vader_test, average='micro'), width=bar_width, label='SA VADER')\n",
    "plt.bar(4, f1_score(st_test['topic'].values, ta_smv_test, average='micro'), width=bar_width, label='TA SVM')\n",
    "plt.bar(5, f1_score(st_test['topic'].values, ta_nb_test, average='micro'), width=bar_width, label='TA NB')\n",
    "\n",
    "\n",
    "\n",
    "#increase the size of the numbers on the y axis\n",
    "plt.yticks(fontsize=16)\n",
    "\n",
    "#remove the ticks on the x axis\n",
    "plt.xticks([])\n",
    "\n",
    "#add a horizontal line the highest f1 score\n",
    "# plt.axhline(y=max([f1_score(st_test['sentiment'].values, sa_smv_test, average='macro'),\n",
    "#                         f1_score(st_test['sentiment'].values, sa_nb_test, average='macro'),\n",
    "#                         f1_score(st_test['sentiment'].values, sa_vader_test, average='macro'),\n",
    "#                         f1_score(st_test['topic'].values, ta_smv_test, average='macro'),\n",
    "#                         f1_score(st_test['topic'].values, ta_nb_test, average='macro'),]), color='red', linestyle='--')\n",
    "\n",
    "\n",
    "#add a title\n",
    "plt.title('SA and TA MODELS: Micro F1 score for each model over Test set', fontsize=20)\n",
    "\n",
    "plt.ylabel('F1 score', fontsize=18)\n",
    "plt.legend(fontsize=14)\n",
    "plt.savefig('Plots/test results.png')\n",
    "plt.show()"
   ]
  },
  {
   "cell_type": "markdown",
   "id": "ede266bb-85bc-4b0b-ad9e-b901de5ce050",
   "metadata": {},
   "source": [
    "The topics deduced by LDA do not seem to conform to the three topics of movies, restaurants, and books and thus classification using this model would be futile."
   ]
  }
 ],
 "metadata": {
  "kernelspec": {
   "display_name": "Python 3 (ipykernel)",
   "language": "python",
   "name": "python3"
  },
  "language_info": {
   "codemirror_mode": {
    "name": "ipython",
    "version": 3
   },
   "file_extension": ".py",
   "mimetype": "text/x-python",
   "name": "python",
   "nbconvert_exporter": "python",
   "pygments_lexer": "ipython3",
   "version": "3.10.0"
  }
 },
 "nbformat": 4,
 "nbformat_minor": 5
}
