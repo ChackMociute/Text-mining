{
 "cells": [
  {
   "cell_type": "markdown",
   "id": "167f6238-29cc-4bf5-9435-f23ffd0d3f6f",
   "metadata": {},
   "source": [
    "# Text mining project\n",
    "## Group 12"
   ]
  },
  {
   "cell_type": "code",
   "execution_count": 1,
   "id": "c9f18f86-4920-4591-9c8b-424ab29ec61c",
   "metadata": {
    "tags": []
   },
   "outputs": [],
   "source": [
    "import nltk\n",
    "import pickle\n",
    "import numpy as np\n",
    "import pandas as pd\n",
    "import matplotlib.pyplot as plt\n",
    "from nltk.corpus import stopwords, movie_reviews\n",
    "from nltk.corpus.reader import ConllCorpusReader\n",
    "from nltk.sentiment.vader import SentimentIntensityAnalyzer\n",
    "from nltk.stem import WordNetLemmatizer\n",
    "from sklearn.datasets import load_files\n",
    "from sklearn.feature_extraction import DictVectorizer\n",
    "from sklearn.feature_extraction.text import CountVectorizer, TfidfTransformer\n",
    "from sklearn.model_selection import GridSearchCV, train_test_split\n",
    "from sklearn.svm import LinearSVC\n",
    "from sklearn.naive_bayes import MultinomialNB\n",
    "from sklearn.neighbors import KNeighborsClassifier\n",
    "from sklearn.ensemble import RandomForestClassifier\n",
    "from sklearn.metrics import classification_report, f1_score\n",
    "from gensim.utils import simple_preprocess\n",
    "from gensim.corpora import Dictionary\n",
    "from gensim.parsing.preprocessing import STOPWORDS\n",
    "from gensim.models import KeyedVectors, LdaMulticore\n",
    "\n",
    "stop_words = list(set(nltk.word_tokenize(' '.join(stopwords.words('english'))) + stopwords.words('english')))"
   ]
  },
  {
   "cell_type": "markdown",
   "id": "7a9d595d-c7ff-4cb8-b7bc-8bb5559b0035",
   "metadata": {
    "tags": []
   },
   "source": [
    "## Loading and wrangling data"
   ]
  },
  {
   "cell_type": "code",
   "execution_count": 2,
   "id": "aa69773a-0024-4826-8ac1-f8f5a5b5ce56",
   "metadata": {
    "tags": []
   },
   "outputs": [],
   "source": [
    "#loading in the test data provided\n",
    "ner_test = pd.read_csv('data/NER-final-test.tsv', delimiter='\\t')[['token', 'BIO NER tag']]\n",
    "ner_test[['token', 'pos']] = nltk.pos_tag(ner_test['token'])\n",
    "\n",
    "st_test = pd.read_csv('data/sentiment-topic-final-test.tsv', delimiter='\\t').drop(columns=['sentence id'])"
   ]
  },
  {
   "cell_type": "code",
   "execution_count": 3,
   "id": "f3eb8151-92cc-4fdc-bfa9-3320377cb615",
   "metadata": {
    "tags": []
   },
   "outputs": [],
   "source": [
    "# loading in the ner from lab 4 and the airline tweets from lab 2\n",
    "# we have 3 tasks, ner (Conll), sentiment analysis (airlinetweets) and topic classification (movie reviews, book reviews, restaurant reviews)\n",
    "\n",
    "ner_train = pd.DataFrame(\n",
    "    ConllCorpusReader('data/CONLL2003',\n",
    "                      'train.txt', ['words', 'pos', 'ignore', 'chunk']\n",
    "                     ).iob_words(), columns=['token', 'pos', 'label'])\n",
    "ner_val = pd.DataFrame(\n",
    "    ConllCorpusReader('data/CONLL2003',\n",
    "                      'valid.txt', ['words', 'pos', 'ignore', 'chunk']\n",
    "                     ).iob_words(), columns=['token', 'pos', 'label'])\n",
    "\n",
    "sa_train = load_files('data/airlinetweets')\n",
    "\n",
    "restaurants = pd.read_csv('data/Restaurant_Reviews.tsv', delimiter='\\t').drop(columns=['Liked']).rename(columns={'Review': 'text'})\n",
    "books = pd.read_csv('data/Book-reviews.csv', encoding='cp1252').rename(columns={'ReviewContent': 'text'})\n",
    "movies = pd.DataFrame({'text': movie_reviews.sents()}).applymap(' '.join)"
   ]
  },
  {
   "cell_type": "code",
   "execution_count": 4,
   "id": "8def000f-4e05-4461-8c8e-3bde6e31ceef",
   "metadata": {
    "tags": []
   },
   "outputs": [],
   "source": [
    "#transforming the ner data into a format that can be used by the DictVectorizer (bag of words)\n",
    "v = DictVectorizer().fit([tok for l in [ner_train, ner_val, ner_test]\n",
    "                          for tok in l[['token', 'pos']].T.to_dict().values()])\n",
    "\n",
    "train = v.transform(ner_train[['token', 'pos']].T.to_dict().values())\n",
    "val = v.transform(ner_val[['token', 'pos']].T.to_dict().values())"
   ]
  },
  {
   "cell_type": "code",
   "execution_count": 5,
   "id": "1e1d9ce5-41ba-425b-9316-21f76e8b703a",
   "metadata": {
    "tags": []
   },
   "outputs": [],
   "source": [
    "#transforming the sentiment analysis data into a format that can be used by the DictVectorizer (bag of words with tfidf)\n",
    "vec = CountVectorizer(min_df=5, tokenizer=nltk.word_tokenize, stop_words=stop_words)\n",
    "tfidf_transformer = TfidfTransformer()\n",
    "\n",
    "counts = vec.fit_transform(sa_train.data + st_test.text.values.tolist())\n",
    "tfidf = tfidf_transformer.fit_transform(counts)\n",
    "\n",
    "tfidf, tfidf_test = tfidf[:-len(st_test.text.values)], tfidf[-len(st_test.text.values):]\n",
    "tfidf_train, tfidf_val, tfidf_y_train, tfidf_y_val = train_test_split(tfidf, sa_train.target, test_size=0.2)"
   ]
  },
  {
   "cell_type": "code",
   "execution_count": 6,
   "id": "f7bcd8de-5a74-41e4-94c7-b1312eb69266",
   "metadata": {
    "tags": []
   },
   "outputs": [],
   "source": [
    "#transforming the topic classification data into a format that can be used by the DictVectorizer (bag of words with tfidf)\n",
    "restaurants['topic'] = 'restaurant'\n",
    "books['topic'] = 'book'\n",
    "movies['topic'] = 'movie'\n",
    "np.random.seed(0)\n",
    "\n",
    "train_ta = pd.concat([restaurants, books, movies]).groupby('topic').sample(len(restaurants)).sample(frac=1)\n",
    "\n",
    "vec = CountVectorizer(min_df=5, tokenizer=nltk.word_tokenize, stop_words=stop_words)\n",
    "counts = vec.fit_transform(train_ta.text.values.tolist() + st_test.text.values.tolist())\n",
    "tfidf_transformer = TfidfTransformer().fit(counts)\n",
    "\n",
    "tfidf_ta = tfidf_transformer.transform(vec.transform(train_ta.text.values))\n",
    "\n",
    "train_ta, val_ta, train_y_ta, val_y_ta = train_test_split(tfidf_ta, train_ta.topic, test_size=0.2)"
   ]
  },
  {
   "cell_type": "markdown",
   "id": "451443bd-af57-4a11-8168-df5776e0f63d",
   "metadata": {
    "tags": []
   },
   "source": [
    "## Training classification models for NERC with BoW"
   ]
  },
  {
   "cell_type": "markdown",
   "id": "43124b29-0655-4bd2-b8fd-bf2d90786468",
   "metadata": {
    "tags": []
   },
   "source": [
    "#### SVM hyperparameter tuning and training"
   ]
  },
  {
   "cell_type": "code",
   "execution_count": 7,
   "id": "d7d683fe-5c83-45df-b3f4-1565acdcf984",
   "metadata": {
    "tags": []
   },
   "outputs": [
    {
     "name": "stdout",
     "output_type": "stream",
     "text": [
      "              precision    recall  f1-score   support\n",
      "\n",
      "       B-LOC       0.87      0.80      0.83      1837\n",
      "      B-MISC       0.88      0.74      0.80       922\n",
      "       B-ORG       0.80      0.65      0.72      1341\n",
      "       B-PER       0.88      0.62      0.73      1842\n",
      "       I-LOC       0.72      0.70      0.71       257\n",
      "      I-MISC       0.79      0.51      0.62       346\n",
      "       I-ORG       0.72      0.46      0.56       751\n",
      "       I-PER       0.44      0.87      0.59      1307\n",
      "           O       0.99      0.99      0.99     42759\n",
      "\n",
      "    accuracy                           0.94     51362\n",
      "   macro avg       0.79      0.70      0.73     51362\n",
      "weighted avg       0.95      0.94      0.94     51362\n",
      "\n"
     ]
    }
   ],
   "source": [
    "# svm = GridSearchCV(LinearSVC(), {'C': np.logspace(-2, 2, 5)}, scoring='f1_macro', n_jobs=-1)\n",
    "\n",
    "# Takes forever to run so just use the params below\n",
    "# svm.best_params_ = {'C': 100.0}\n",
    "\n",
    "# svm_bow = LinearSVC(C=100, max_iter=10000)\n",
    "# svm_bow.fit(train, ner_train['label'].values)\n",
    "\n",
    "with open('models/NERC/BoW/svm.pkl', 'rb') as f:\n",
    "    svm_bow = pickle.load(f)\n",
    "svm_bow_pred = svm_bow.predict(val)\n",
    "print(classification_report(ner_val['label'].values, svm_bow_pred))"
   ]
  },
  {
   "cell_type": "markdown",
   "id": "e0fc457b-2f9e-4029-8a20-4aaeb5520d67",
   "metadata": {
    "tags": []
   },
   "source": [
    "#### Naive Bayes training"
   ]
  },
  {
   "cell_type": "code",
   "execution_count": 8,
   "id": "42ca3cd5-3cc0-4dae-bf1c-d043c425cb5a",
   "metadata": {
    "tags": []
   },
   "outputs": [
    {
     "name": "stdout",
     "output_type": "stream",
     "text": [
      "              precision    recall  f1-score   support\n",
      "\n",
      "       B-LOC       0.43      0.87      0.58      1837\n",
      "      B-MISC       0.90      0.64      0.75       922\n",
      "       B-ORG       0.70      0.54      0.61      1341\n",
      "       B-PER       0.81      0.62      0.70      1842\n",
      "       I-LOC       0.85      0.11      0.20       257\n",
      "      I-MISC       0.93      0.15      0.26       346\n",
      "       I-ORG       0.60      0.42      0.50       751\n",
      "       I-PER       0.73      0.35      0.48      1307\n",
      "           O       0.98      0.99      0.99     42759\n",
      "\n",
      "    accuracy                           0.92     51362\n",
      "   macro avg       0.77      0.52      0.56     51362\n",
      "weighted avg       0.93      0.92      0.92     51362\n",
      "\n"
     ]
    }
   ],
   "source": [
    "# Naive Bayes doesn't make much sense for such a task but I wanted to have 3 classifiers and training a NN is a bit more of a hassle\n",
    "\n",
    "# nb_bow = MultinomialNB()\n",
    "# nb_bow.fit(train, ner_train['label'].values)\n",
    "\n",
    "with open('models/NERC/BoW/nb.pkl', 'rb') as f:\n",
    "    nb_bow = pickle.load(f)\n",
    "nb_bow_pred = nb_bow.predict(val)\n",
    "print(classification_report(ner_val['label'].values, nb_bow_pred))"
   ]
  },
  {
   "cell_type": "markdown",
   "id": "7c105501-0658-4631-a831-7d848b0cd51f",
   "metadata": {},
   "source": [
    "#### KNN hyperparameter tuning and training"
   ]
  },
  {
   "cell_type": "code",
   "execution_count": 9,
   "id": "5a8d9a52-daed-4b73-9e77-4197675209fc",
   "metadata": {
    "tags": []
   },
   "outputs": [
    {
     "name": "stdout",
     "output_type": "stream",
     "text": [
      "              precision    recall  f1-score   support\n",
      "\n",
      "       B-LOC       0.82      0.70      0.76      1837\n",
      "      B-MISC       0.80      0.63      0.71       922\n",
      "       B-ORG       0.23      0.71      0.35      1341\n",
      "       B-PER       0.86      0.37      0.52      1842\n",
      "       I-LOC       0.70      0.59      0.64       257\n",
      "      I-MISC       0.82      0.38      0.52       346\n",
      "       I-ORG       0.76      0.32      0.45       751\n",
      "       I-PER       0.64      0.14      0.23      1307\n",
      "           O       0.98      0.99      0.99     42759\n",
      "\n",
      "    accuracy                           0.91     51362\n",
      "   macro avg       0.74      0.54      0.57     51362\n",
      "weighted avg       0.93      0.91      0.91     51362\n",
      "\n"
     ]
    }
   ],
   "source": [
    "# knn = GridSearchCV(KNeighborsClassifier(),\n",
    "#                    {'n_neighbors': np.arange(2, 14, 2), 'p': [1, 2, 3]},\n",
    "#                    scoring='f1_macro',\n",
    "#                    n_jobs=-1)\n",
    "\n",
    "# Takes forever to run so just use the params below\n",
    "# knn.best_params_ = {'n_neighbors': 12, 'p': 1}\n",
    "\n",
    "# knn_bow = KNeighborsClassifier(n_neighbors=12, p=1, n_jobs=-1)\n",
    "# knn_bow.fit(train, ner_train['label'].values)\n",
    "\n",
    "with open('models/NERC/BoW/knn.pkl', 'rb') as f:\n",
    "    knn_bow = pickle.load(f)\n",
    "knn_bow_pred = knn_bow.predict(val)\n",
    "print(classification_report(ner_val['label'].values, knn_bow_pred))"
   ]
  },
  {
   "cell_type": "markdown",
   "id": "4b07fa87-2278-4664-a061-3ac7ca2d71fa",
   "metadata": {
    "tags": []
   },
   "source": [
    "## Training classification models for NERC with word embeddings"
   ]
  },
  {
   "cell_type": "code",
   "execution_count": 10,
   "id": "cca5648c-9f7f-4ebf-a9a4-5e86862fbbe7",
   "metadata": {
    "tags": []
   },
   "outputs": [],
   "source": [
    "word_embedding_model = KeyedVectors.load_word2vec_format('../../GoogleNews-vectors-negative300.bin', binary=True)\n",
    "\n",
    "def to_embedding(word):\n",
    "    if word != '' and word != 'DOCSTART' and word in word_embedding_model:\n",
    "        return word_embedding_model[word]\n",
    "    return [0]*300"
   ]
  },
  {
   "cell_type": "code",
   "execution_count": 11,
   "id": "a867c24e-c20c-42cd-aacb-216e1e3ea70c",
   "metadata": {
    "tags": []
   },
   "outputs": [],
   "source": [
    "train = np.concatenate(ner_train['token'].map(to_embedding).values).reshape(-1, 300)\n",
    "val = np.concatenate(ner_val['token'].map(to_embedding).values).reshape(-1, 300)"
   ]
  },
  {
   "cell_type": "markdown",
   "id": "c10ce869-f11f-4501-9310-7c06266aaf8a",
   "metadata": {
    "tags": []
   },
   "source": [
    "#### SVM hyperparameter tuning and training"
   ]
  },
  {
   "cell_type": "code",
   "execution_count": 12,
   "id": "7f224387-b861-4a32-b975-c338c3289dfc",
   "metadata": {
    "tags": []
   },
   "outputs": [
    {
     "name": "stdout",
     "output_type": "stream",
     "text": [
      "              precision    recall  f1-score   support\n",
      "\n",
      "       B-LOC       0.82      0.80      0.81      1837\n",
      "      B-MISC       0.78      0.69      0.74       922\n",
      "       B-ORG       0.70      0.64      0.67      1341\n",
      "       B-PER       0.78      0.71      0.75      1842\n",
      "       I-LOC       0.61      0.56      0.58       257\n",
      "      I-MISC       0.68      0.43      0.53       346\n",
      "       I-ORG       0.61      0.36      0.45       751\n",
      "       I-PER       0.60      0.57      0.58      1307\n",
      "           O       0.97      1.00      0.98     42759\n",
      "\n",
      "    accuracy                           0.94     51362\n",
      "   macro avg       0.73      0.64      0.68     51362\n",
      "weighted avg       0.93      0.94      0.93     51362\n",
      "\n"
     ]
    }
   ],
   "source": [
    "# svm_we = GridSearchCV(LinearSVC(), {'C': np.logspace(-2, 2, 5)}, scoring='f1_macro', n_jobs=-1)\n",
    "\n",
    "# Takes forever to run so just use the params below\n",
    "# svm.best_params_ = {'C': 10.0}\n",
    "\n",
    "# svm_we = LinearSVC(C=10, max_iter=10000)\n",
    "# svm_we.fit(train, ner_train['label'].values)\n",
    "\n",
    "# #save the model\n",
    "# with open('models/NERC/Embedding/svm.pkl', 'wb') as f:\n",
    "#     pickle.dump(svm_we, f)\n",
    "\n",
    "with open('models/NERC/Embedding/svm.pkl', 'rb') as f:\n",
    "    svm_we = pickle.load(f)\n",
    "svm_we_pred = svm_we.predict(val)\n",
    "print(classification_report(ner_val['label'].values, svm_we_pred))"
   ]
  },
  {
   "cell_type": "markdown",
   "id": "da732fbc-dd9e-4538-854b-ed95498d1282",
   "metadata": {},
   "source": [
    "#### KNN training"
   ]
  },
  {
   "cell_type": "code",
   "execution_count": 13,
   "id": "6d84a339-e58a-4a92-9298-c81b6384397d",
   "metadata": {
    "tags": []
   },
   "outputs": [
    {
     "name": "stdout",
     "output_type": "stream",
     "text": [
      "              precision    recall  f1-score   support\n",
      "\n",
      "       B-LOC       0.80      0.83      0.81      1837\n",
      "      B-MISC       0.77      0.72      0.74       922\n",
      "       B-ORG       0.69      0.65      0.67      1341\n",
      "       B-PER       0.74      0.70      0.72      1842\n",
      "       I-LOC       0.68      0.52      0.59       257\n",
      "      I-MISC       0.74      0.46      0.57       346\n",
      "       I-ORG       0.62      0.43      0.51       751\n",
      "       I-PER       0.55      0.57      0.56      1307\n",
      "           O       0.98      0.99      0.99     42759\n",
      "\n",
      "    accuracy                           0.94     51362\n",
      "   macro avg       0.73      0.65      0.68     51362\n",
      "weighted avg       0.93      0.94      0.93     51362\n",
      "\n"
     ]
    }
   ],
   "source": [
    "# knn_we = KNeighborsClassifier() # Too inefficient to run grid search\n",
    "# knn_we.fit(train, ner_train['label'].values)\n",
    "\n",
    "# #save the model\n",
    "# with open('models/NERC/Embedding/knn.pkl', 'wb') as f:\n",
    "#     pickle.dump(knn_we, f)\n",
    "\n",
    "with open('models/NERC/Embedding/knn.pkl', 'rb') as f:\n",
    "    knn_we = pickle.load(f)\n",
    "knn_we_pred = knn_we.predict(val)\n",
    "print(classification_report(ner_val['label'].values, knn_we_pred))"
   ]
  },
  {
   "cell_type": "markdown",
   "id": "dadc9c2e-5daa-4e72-a85e-c1faa004e46d",
   "metadata": {
    "tags": []
   },
   "source": [
    "#### Random Forest hyperparameter tuning and training"
   ]
  },
  {
   "cell_type": "code",
   "execution_count": 14,
   "id": "db7dd0e3-5b23-4ab4-a910-3913bf24bcd1",
   "metadata": {
    "tags": []
   },
   "outputs": [
    {
     "name": "stdout",
     "output_type": "stream",
     "text": [
      "              precision    recall  f1-score   support\n",
      "\n",
      "       B-LOC       0.86      0.82      0.84      1837\n",
      "      B-MISC       0.87      0.72      0.78       922\n",
      "       B-ORG       0.77      0.63      0.69      1341\n",
      "       B-PER       0.86      0.69      0.77      1842\n",
      "       I-LOC       0.71      0.69      0.70       257\n",
      "      I-MISC       0.79      0.50      0.61       346\n",
      "       I-ORG       0.69      0.46      0.55       751\n",
      "       I-PER       0.67      0.52      0.59      1307\n",
      "           O       0.96      1.00      0.98     42759\n",
      "\n",
      "    accuracy                           0.94     51362\n",
      "   macro avg       0.80      0.67      0.72     51362\n",
      "weighted avg       0.94      0.94      0.94     51362\n",
      "\n"
     ]
    }
   ],
   "source": [
    "# rf_we = GridSearchCV(RandomForestClassifier(),\n",
    "#                      {'n_estimators': np.arange(50, 151, 25), 'max_depth': [5, 10, 15, None]},\n",
    "#                      scoring='f1_macro',\n",
    "#                      n_jobs=-1)\n",
    "\n",
    "# Takes forever to run so just use the params below\n",
    "# rf_we.best_params = {'max_depth': None, 'n_estimators': 50}\n",
    "\n",
    "# rf_we = RandomForestClassifier(n_estimators=50, max_depth=None)\n",
    "# rf_we.fit(train, ner_train['label'].values)\n",
    "\n",
    "# # save the model\n",
    "# with open('models/NERC/Embedding/rf.pkl', 'wb') as f:\n",
    "#     pickle.dump(rf_we, f)\n",
    "\n",
    "with open('models/NERC/Embedding/rf.pkl', 'rb') as f:\n",
    "    rf_we = pickle.load(f)\n",
    "rf_we_pred = rf_we.predict(val)\n",
    "print(classification_report(ner_val['label'].values, rf_we_pred))"
   ]
  },
  {
   "cell_type": "markdown",
   "id": "77222bea-8d44-46b0-a1ec-912ae9d2dc6a",
   "metadata": {
    "tags": []
   },
   "source": [
    "## Plots"
   ]
  },
  {
   "cell_type": "code",
   "execution_count": 15,
   "id": "a15d845d-15d7-412c-8c65-0d313c29504f",
   "metadata": {
    "tags": []
   },
   "outputs": [
    {
     "data": {
      "image/png": "[encoded data removed]",
      "text/plain": [
       "<Figure size 1152x576 with 1 Axes>"
      ]
     },
     "metadata": {
      "needs_background": "light"
     },
     "output_type": "display_data"
    }
   ],
   "source": [
    "x = np.arange(0, 9)\n",
    "plt.figure(figsize=(16, 8))\n",
    "plt.bar(x - 0.3, height=f1_score(ner_val['label'], svm_bow_pred, average=None), width=0.3, label='SVM')\n",
    "plt.bar(x, height=f1_score(ner_val['label'], nb_bow_pred, average=None), width=0.3, label='Naive Bayes')\n",
    "plt.bar(x + 0.3, height=f1_score(ner_val['label'], knn_bow_pred, average=None), width=0.3, label='KNN')\n",
    "plt.title('Models trained with BoW', fontsize=20)\n",
    "plt.xticks(x, labels=sorted(ner_train.label.unique()), rotation=45, fontsize=14)\n",
    "plt.ylabel('F1 score', fontsize=14)\n",
    "plt.legend(fontsize=14)\n",
    "plt.savefig('Plots/BoW models.png')\n",
    "plt.show()"
   ]
  },
  {
   "cell_type": "code",
   "execution_count": 16,
   "id": "4fd4bbf3-320a-4dba-93eb-9db7bacc7063",
   "metadata": {
    "tags": []
   },
   "outputs": [
    {
     "data": {
      "image/png": "[encoded data removed]",
      "text/plain": [
       "<Figure size 1152x576 with 1 Axes>"
      ]
     },
     "metadata": {
      "needs_background": "light"
     },
     "output_type": "display_data"
    }
   ],
   "source": [
    "plt.figure(figsize=(16, 8))\n",
    "plt.bar(x - 0.3, height=f1_score(ner_val['label'], svm_we_pred, average=None), width=0.3, label='SVM')\n",
    "plt.bar(x, height=f1_score(ner_val['label'], rf_we_pred, average=None), width=0.3, label='Random Forest')\n",
    "plt.bar(x + 0.3, height=f1_score(ner_val['label'], knn_we_pred, average=None), width=0.3, label='KNN')\n",
    "plt.title('Models trained with word embeddings', fontsize=20)\n",
    "plt.xticks(x, labels=sorted(ner_train.label.unique()), rotation=45, fontsize=14)\n",
    "plt.ylabel('F1 score', fontsize=14)\n",
    "plt.legend(fontsize=14)\n",
    "plt.savefig('Plots/WE models.png')\n",
    "plt.show()"
   ]
  },
  {
   "cell_type": "code",
   "execution_count": 17,
   "id": "2a71931b",
   "metadata": {
    "tags": []
   },
   "outputs": [],
   "source": [
    "# Reshape the test set to be the same shape as the training data\n",
    "test_bow = v.transform(ner_test[['token', 'pos']].T.to_dict().values())\n",
    "test_we = np.concatenate(ner_test['token'].map(to_embedding).values).reshape(-1, 300)\n",
    "\n",
    "# Generate the predictions for the test set over all the models, and save them each as a variable\n",
    "models = {l: f1_score(ner_test['BIO NER tag'].values, m.predict(test_bow), average='macro')\n",
    "          for l, m in zip(['SVM BoW', 'Naive Bayes BoW', 'KNN BoW'], [svm_bow, nb_bow, knn_bow])}\n",
    "models.update({l: f1_score(ner_test['BIO NER tag'].values, m.predict(test_we), average='macro')\n",
    "               for l, m in zip(['SVM WE', 'Random Forest WE', 'KNN WE'], [svm_we, rf_we, knn_we])})"
   ]
  },
  {
   "cell_type": "code",
   "execution_count": 18,
   "id": "380d4561",
   "metadata": {},
   "outputs": [
    {
     "data": {
      "image/png": "[encoded data removed]",
      "text/plain": [
       "<Figure size 1008x576 with 1 Axes>"
      ]
     },
     "metadata": {
      "needs_background": "light"
     },
     "output_type": "display_data"
    }
   ],
   "source": [
    "plt.figure(figsize=(14, 8))\n",
    "\n",
    "# Generate the plot for all the models over the test set, using the macro f1 score\n",
    "for i, (model, f1) in enumerate(models.items()):\n",
    "    plt.bar(i, height=f1, width=0.5, label=model)\n",
    "plt.yticks(fontsize=16)\n",
    "plt.xticks([])\n",
    "plt.axhline(y=max(models.values()), color='r', linestyle='--')\n",
    "plt.title('NERC MODELS: Macro F1 score for each model over the test set', fontsize=20)\n",
    "plt.ylabel('F1 score', fontsize=18)\n",
    "plt.legend(fontsize=14)\n",
    "plt.savefig('Plots/nerc test results.png')\n",
    "plt.show()"
   ]
  },
  {
   "cell_type": "markdown",
   "id": "a4642893-1f7e-4d0a-b58b-8812de8d004a",
   "metadata": {},
   "source": [
    "### The best model\n",
    "Is an SVM trained with a bag of words representation."
   ]
  },
  {
   "cell_type": "code",
   "execution_count": 19,
   "id": "67639358-e5e1-4dc9-8722-1b6f824169a1",
   "metadata": {
    "tags": []
   },
   "outputs": [
    {
     "name": "stdout",
     "output_type": "stream",
     "text": [
      "              precision    recall  f1-score   support\n",
      "\n",
      "       B-LOC       0.50      0.50      0.50         4\n",
      "      B-MISC       0.75      1.00      0.86         3\n",
      "       B-ORG       0.00      0.00      0.00         4\n",
      "       B-PER       0.75      0.50      0.60         6\n",
      "       I-LOC       0.67      1.00      0.80         2\n",
      "      I-MISC       0.00      0.00      0.00         1\n",
      "       I-ORG       0.50      0.67      0.57         3\n",
      "       I-PER       0.64      0.88      0.74         8\n",
      "           O       0.99      1.00      1.00       183\n",
      "\n",
      "    accuracy                           0.94       214\n",
      "   macro avg       0.53      0.62      0.56       214\n",
      "weighted avg       0.93      0.94      0.93       214\n",
      "\n"
     ]
    }
   ],
   "source": [
    "print(classification_report(ner_test['BIO NER tag'], svm_bow.predict(v.transform(ner_test[['token', 'pos']].T.to_dict().values())), zero_division=0))"
   ]
  },
  {
   "cell_type": "markdown",
   "id": "43e0f5e0-5ae5-4ac6-b497-a47318fd1940",
   "metadata": {
    "tags": []
   },
   "source": [
    "## Sentiment analysis and classification"
   ]
  },
  {
   "cell_type": "markdown",
   "id": "7df5fa45-99d2-4682-86c5-55b7b0e15629",
   "metadata": {
    "tags": []
   },
   "source": [
    "### Using VADER"
   ]
  },
  {
   "cell_type": "code",
   "execution_count": 20,
   "id": "b2a2704a-a5aa-4624-a12c-c1c9595b5ed5",
   "metadata": {
    "tags": []
   },
   "outputs": [],
   "source": [
    "def vader_output_to_label(vader_output):\n",
    "    compound = vader_output['compound']\n",
    "    if compound < 0:\n",
    "        return 'negative'\n",
    "    elif compound == 0.0:\n",
    "        return 'neutral'\n",
    "    return 'positive'\n",
    "\n",
    "vader_model = SentimentIntensityAnalyzer()"
   ]
  },
  {
   "cell_type": "code",
   "execution_count": 21,
   "id": "51127222-c9f9-4bf9-ad44-c33f38e21c35",
   "metadata": {
    "tags": []
   },
   "outputs": [
    {
     "name": "stdout",
     "output_type": "stream",
     "text": [
      "              precision    recall  f1-score   support\n",
      "\n",
      "    negative       1.00      0.33      0.50         3\n",
      "     neutral       1.00      0.33      0.50         3\n",
      "    positive       0.50      1.00      0.67         4\n",
      "\n",
      "    accuracy                           0.60        10\n",
      "   macro avg       0.83      0.56      0.56        10\n",
      "weighted avg       0.80      0.60      0.57        10\n",
      "\n"
     ]
    }
   ],
   "source": [
    "vader_pred = [vader_output_to_label(vader_model.polarity_scores(text)) for text in st_test.text.values]\n",
    "print(classification_report(st_test.sentiment.values, vader_pred, target_names=sa_train.target_names))"
   ]
  },
  {
   "cell_type": "markdown",
   "id": "c47b296f-f8a1-4c0a-94ab-7bcdefb77c8b",
   "metadata": {},
   "source": [
    "### Using conventional models"
   ]
  },
  {
   "cell_type": "markdown",
   "id": "f8b22d28-9a71-4713-984d-9904d626328e",
   "metadata": {
    "tags": []
   },
   "source": [
    "#### SVM hyperparameter tuning and training"
   ]
  },
  {
   "cell_type": "code",
   "execution_count": 22,
   "id": "c6c9f98e-1a23-4e95-9bea-606fecccf07a",
   "metadata": {
    "tags": []
   },
   "outputs": [
    {
     "name": "stdout",
     "output_type": "stream",
     "text": [
      "              precision    recall  f1-score   support\n",
      "\n",
      "    negative       0.81      0.90      0.85       348\n",
      "     neutral       0.82      0.73      0.77       319\n",
      "    positive       0.85      0.84      0.85       284\n",
      "\n",
      "    accuracy                           0.82       951\n",
      "   macro avg       0.83      0.82      0.82       951\n",
      "weighted avg       0.82      0.82      0.82       951\n",
      "\n"
     ]
    }
   ],
   "source": [
    "# svm_sa = GridSearchCV(LinearSVC(), {'C': np.logspace(-2, 2, 5)}, scoring='f1_macro', n_jobs=-1)\n",
    "\n",
    "with open('models/Sentiment/svm.pkl', 'rb') as f:\n",
    "    svm_sa = pickle.load(f)\n",
    "svm_sa.fit(tfidf_train, tfidf_y_train)\n",
    "svm_sa_pred = svm_sa.predict(tfidf_val)\n",
    "print(classification_report(tfidf_y_val, svm_sa_pred, target_names=sa_train.target_names))"
   ]
  },
  {
   "cell_type": "markdown",
   "id": "8d0b24e8-e0fa-464d-899a-b0e4fd4ea605",
   "metadata": {},
   "source": [
    "#### Naive Bayes training"
   ]
  },
  {
   "cell_type": "code",
   "execution_count": 23,
   "id": "cb675481-f6db-41bd-bb33-fd137f35f19b",
   "metadata": {
    "tags": []
   },
   "outputs": [
    {
     "name": "stdout",
     "output_type": "stream",
     "text": [
      "              precision    recall  f1-score   support\n",
      "\n",
      "    negative       0.84      0.95      0.89       348\n",
      "     neutral       0.91      0.75      0.82       319\n",
      "    positive       0.86      0.89      0.88       284\n",
      "\n",
      "    accuracy                           0.86       951\n",
      "   macro avg       0.87      0.86      0.86       951\n",
      "weighted avg       0.87      0.86      0.86       951\n",
      "\n"
     ]
    }
   ],
   "source": [
    "# nb_sa = MultinomialNB()\n",
    "# nb_sa.fit(tfidf_train, tfidf_y_train)\n",
    "\n",
    "with open('models/Sentiment/nb.pkl', 'rb') as f:\n",
    "    nb_sa = pickle.load(f)\n",
    "nb_sa_pred = nb_sa.predict(tfidf_val)\n",
    "print(classification_report(tfidf_y_val, nb_sa_pred, target_names=sa_train.target_names))"
   ]
  },
  {
   "cell_type": "markdown",
   "id": "9c274052-cddd-4499-9204-0470ac6cde48",
   "metadata": {},
   "source": [
    "### Naive Bayes\n",
    "Is best for sentiment analysis. The bad results are because of a different dsitribution than the one trained on."
   ]
  },
  {
   "cell_type": "code",
   "execution_count": 24,
   "id": "47dd113e-7484-4f95-9f1b-937bdaf1d27c",
   "metadata": {
    "tags": []
   },
   "outputs": [
    {
     "name": "stdout",
     "output_type": "stream",
     "text": [
      "              precision    recall  f1-score   support\n",
      "\n",
      "    negative       0.40      0.67      0.50         3\n",
      "     neutral       0.50      0.33      0.40         3\n",
      "    positive       0.33      0.25      0.29         4\n",
      "\n",
      "    accuracy                           0.40        10\n",
      "   macro avg       0.41      0.42      0.40        10\n",
      "weighted avg       0.40      0.40      0.38        10\n",
      "\n"
     ]
    }
   ],
   "source": [
    "print(classification_report(st_test.sentiment, [sa_train.target_names[i] for i in nb_sa.predict(tfidf_test)]))"
   ]
  },
  {
   "cell_type": "markdown",
   "id": "3340b65a-65de-470c-954d-fd37551e7d8f",
   "metadata": {},
   "source": [
    "## Topic analysis and classification"
   ]
  },
  {
   "cell_type": "markdown",
   "id": "068896e7-fe93-4ef8-896b-f11261e339b3",
   "metadata": {},
   "source": [
    "### Using conventional models"
   ]
  },
  {
   "cell_type": "markdown",
   "id": "c9fcbfdc-d3bf-41a5-8b3c-0bff59a07a85",
   "metadata": {
    "tags": []
   },
   "source": [
    "#### SVM hyperparameter tuning and training"
   ]
  },
  {
   "cell_type": "code",
   "execution_count": 25,
   "id": "0f9420e0-b59d-4619-83a6-d18898f40d3a",
   "metadata": {
    "tags": []
   },
   "outputs": [
    {
     "name": "stdout",
     "output_type": "stream",
     "text": [
      "              precision    recall  f1-score   support\n",
      "\n",
      "        book       0.99      0.97      0.98       202\n",
      "       movie       0.94      0.88      0.91       203\n",
      "  restaurant       0.87      0.95      0.91       195\n",
      "\n",
      "    accuracy                           0.93       600\n",
      "   macro avg       0.94      0.93      0.93       600\n",
      "weighted avg       0.94      0.93      0.93       600\n",
      "\n"
     ]
    }
   ],
   "source": [
    "# svm_ta = GridSearchCV(LinearSVC(), {'C': np.logspace(-2, 2, 5)}, scoring='f1_macro', n_jobs=-1)\n",
    "# svm_ta.fit(train_ta, train_y_ta)\n",
    "\n",
    "# with open('models/Topic/svm.pkl', 'wb') as f:\n",
    "#     pickle.dump(svm_ta.best_estimator_, f)\n",
    "\n",
    "with open('models/Topic/svm.pkl', 'rb') as f:\n",
    "    svm_ta = pickle.load(f)\n",
    "svm_ta_pred = svm_ta.predict(val_ta)\n",
    "print(classification_report(val_y_ta, svm_ta_pred))"
   ]
  },
  {
   "cell_type": "markdown",
   "id": "6e01f80e-e4c0-4824-81b3-4c50734a92e4",
   "metadata": {},
   "source": [
    "#### Naive Bayes training"
   ]
  },
  {
   "cell_type": "code",
   "execution_count": 26,
   "id": "f3f0c67a-4ae5-43e0-8d7a-15329d76729e",
   "metadata": {
    "tags": []
   },
   "outputs": [
    {
     "name": "stdout",
     "output_type": "stream",
     "text": [
      "              precision    recall  f1-score   support\n",
      "\n",
      "        book       0.87      0.99      0.92       202\n",
      "       movie       0.92      0.84      0.88       203\n",
      "  restaurant       0.93      0.88      0.91       195\n",
      "\n",
      "    accuracy                           0.90       600\n",
      "   macro avg       0.91      0.90      0.90       600\n",
      "weighted avg       0.91      0.90      0.90       600\n",
      "\n"
     ]
    }
   ],
   "source": [
    "# nb_ta = MultinomialNB()\n",
    "# nb_ta.fit(train_ta, train_y_ta)\n",
    "\n",
    "# with open('models/Topic/nb.pkl', 'wb') as f:\n",
    "#     pickle.dump(nb_ta, f)\n",
    "\n",
    "with open('models/Topic/nb.pkl', 'rb') as f:\n",
    "    nb_ta = pickle.load(f)\n",
    "nb_ta_pred = nb_ta.predict(val_ta)\n",
    "print(classification_report(val_y_ta, nb_ta_pred))"
   ]
  },
  {
   "cell_type": "markdown",
   "id": "41f51743-1a4d-4339-bb8e-bbb6652320fd",
   "metadata": {},
   "source": [
    "### SVM\n",
    "slightly outperforms naive bayes in topic classification."
   ]
  },
  {
   "cell_type": "code",
   "execution_count": 27,
   "id": "aee0dc18-557b-47a4-964d-e9d9837a7880",
   "metadata": {
    "tags": []
   },
   "outputs": [
    {
     "name": "stdout",
     "output_type": "stream",
     "text": [
      "              precision    recall  f1-score   support\n",
      "\n",
      "        book       1.00      1.00      1.00         2\n",
      "       movie       1.00      1.00      1.00         5\n",
      "  restaurant       1.00      1.00      1.00         3\n",
      "\n",
      "    accuracy                           1.00        10\n",
      "   macro avg       1.00      1.00      1.00        10\n",
      "weighted avg       1.00      1.00      1.00        10\n",
      "\n"
     ]
    }
   ],
   "source": [
    "print(classification_report(st_test.topic, svm_ta.predict(tfidf_transformer.transform(vec.transform(st_test.text.values)))))"
   ]
  },
  {
   "cell_type": "markdown",
   "id": "d7febf74-5192-42d1-b9c7-83ba086f7681",
   "metadata": {},
   "source": [
    "### Using LDA"
   ]
  },
  {
   "cell_type": "code",
   "execution_count": 28,
   "id": "ab535411-fb5f-401f-a8e6-22ba140a5fac",
   "metadata": {
    "tags": []
   },
   "outputs": [],
   "source": [
    "lemmatizer = WordNetLemmatizer()\n",
    "preprocess = lambda x: [lemmatizer.lemmatize(token) for token in simple_preprocess(x) if token not in STOPWORDS]\n",
    "docs = pd.concat([restaurants, books, movies]).groupby('topic').sample(len(restaurants)).sample(frac=1).text.map(preprocess)\n",
    "dictionary = Dictionary(docs)\n",
    "dictionary.filter_extremes(no_below=1, no_above=0.5, keep_n=100000)\n",
    "bow_corpus = [dictionary.doc2bow(doc) for doc in docs]"
   ]
  },
  {
   "cell_type": "code",
   "execution_count": 29,
   "id": "e9c0995e-f762-4cc4-8620-ef5f7c61f940",
   "metadata": {
    "tags": []
   },
   "outputs": [],
   "source": [
    "lda_ta = LdaMulticore(bow_corpus, num_topics=3, id2word=dictionary, passes=5, workers=2)"
   ]
  },
  {
   "cell_type": "code",
   "execution_count": 30,
   "id": "bbafc7c7-f0cf-4158-af07-182b574cbfaf",
   "metadata": {
    "tags": []
   },
   "outputs": [
    {
     "name": "stdout",
     "output_type": "stream",
     "text": [
      "Topic: 0 Word: 0.035*\"book\" + 0.020*\"read\" + 0.019*\"character\" + 0.014*\"story\" + 0.010*\"good\" + 0.008*\"like\" + 0.008*\"time\" + 0.008*\"movie\" + 0.007*\"girl\" + 0.007*\"end\"\n",
      "Topic: 1 Word: 0.017*\"book\" + 0.013*\"character\" + 0.012*\"like\" + 0.007*\"time\" + 0.007*\"train\" + 0.007*\"read\" + 0.007*\"rachel\" + 0.006*\"girl\" + 0.006*\"film\" + 0.005*\"life\"\n",
      "Topic: 2 Word: 0.021*\"book\" + 0.017*\"character\" + 0.012*\"story\" + 0.008*\"read\" + 0.008*\"place\" + 0.007*\"good\" + 0.006*\"best\" + 0.006*\"like\" + 0.006*\"reading\" + 0.006*\"great\"\n"
     ]
    }
   ],
   "source": [
    "for idx, topic in lda_ta.print_topics(-1):\n",
    "    print('Topic: {} Word: {}'.format(idx, topic))"
   ]
  },
  {
   "cell_type": "markdown",
   "id": "2ea5976f-e19b-43c9-966b-c1a645b8fa46",
   "metadata": {},
   "source": [
    "The topics deduced by LDA do not seem to conform to the three topics of movies, restaurants, and books and thus classification using this model would be futile."
   ]
  },
  {
   "cell_type": "markdown",
   "id": "9b94408c-f3cc-41c6-b572-535d3f8f6b6c",
   "metadata": {},
   "source": [
    "## Plot"
   ]
  },
  {
   "cell_type": "code",
   "execution_count": 31,
   "id": "49a049a7",
   "metadata": {
    "tags": []
   },
   "outputs": [
    {
     "data": {
      "image/png": "[encoded data removed]",
      "text/plain": [
       "<Figure size 720x432 with 1 Axes>"
      ]
     },
     "metadata": {
      "needs_background": "light"
     },
     "output_type": "display_data"
    }
   ],
   "source": [
    "st_models = {'SA SVM': f1_score(st_test.sentiment, [sa_train.target_names[i]\n",
    "                                                    for i in svm_sa.predict(tfidf_test)], average='micro'),\n",
    "             'SA NB': f1_score(st_test.sentiment, [sa_train.target_names[i]\n",
    "                                                   for i in nb_sa.predict(tfidf_test)], average='micro'),\n",
    "             'SA VADER': f1_score(st_test['sentiment'].values, [vader_output_to_label(vader_model.polarity_scores(text))\n",
    "                                                                for text in st_test.text.values], average='micro'),\n",
    "             'TA SVM': f1_score(st_test['topic'].values, svm_ta.predict(\n",
    "                 tfidf_transformer.transform(vec.transform(st_test.text.values))), average='micro'),\n",
    "             'TA NB': f1_score(st_test['topic'].values, nb_ta.predict(\n",
    "                 tfidf_transformer.transform(vec.transform(st_test.text.values))), average='micro')}\n",
    "\n",
    "plt.figure(figsize=(10, 6))\n",
    "# Generate the plot for all the models over the test set, using the macro f1 score\n",
    "for i, (model, f1) in enumerate(st_models.items()):\n",
    "    plt.bar(i, f1, width=0.5, label=model)\n",
    "plt.yticks(fontsize=16)\n",
    "plt.xticks([])\n",
    "plt.title('SA and TA MODELS: Micro F1 score for each model over Test set', fontsize=20)\n",
    "plt.ylabel('F1 score', fontsize=18)\n",
    "plt.legend(fontsize=14)\n",
    "plt.savefig('Plots/test results.png')\n",
    "plt.show()"
   ]
  }
 ],
 "metadata": {
  "kernelspec": {
   "display_name": "Python 3 (ipykernel)",
   "language": "python",
   "name": "python3"
  },
  "language_info": {
   "codemirror_mode": {
    "name": "ipython",
    "version": 3
   },
   "file_extension": ".py",
   "mimetype": "text/x-python",
   "name": "python",
   "nbconvert_exporter": "python",
   "pygments_lexer": "ipython3",
   "version": "3.10.2"
  }
 },
 "nbformat": 4,
 "nbformat_minor": 5
}
