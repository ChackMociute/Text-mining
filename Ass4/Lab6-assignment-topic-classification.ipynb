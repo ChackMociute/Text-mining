{
 "cells": [
  {
   "cell_type": "markdown",
   "metadata": {},
   "source": [
    "## Lab6-Assignment: Topic Classification"
   ]
  },
  {
   "cell_type": "markdown",
   "metadata": {},
   "source": [
    "Use the same training, development, and test partitions of the the 20 newsgroups text dataset as in Lab6.4-Topic-classification-BERT.ipynb "
   ]
  },
  {
   "cell_type": "markdown",
   "metadata": {},
   "source": [
    "* Fine-tune and examine the performance of another transformer-based pretrained language models, e.g., RoBERTa, XLNet\n",
    "\n",
    "* Compare the performance of this model to the results achieved in Lab6.4-Topic-classification-BERT.ipynb and to a conventional machine learning approach (e.g., SVM, Naive Bayes) using bag-of-words or other engineered features of your choice. \n",
    "Describe the differences in performance in terms of Precision, Recall, and F1-score evaluation metrics."
   ]
  },
  {
   "cell_type": "code",
   "execution_count": null,
   "metadata": {
    "id": "CQ6PxcAqRV_C",
    "tags": []
   },
   "outputs": [],
   "source": [
    "import pandas as pd\n",
    "from nltk.corpus import stopwords\n",
    "from sklearn.datasets import fetch_20newsgroups\n",
    "from sklearn.feature_extraction.text import CountVectorizer\n",
    "from sklearn.model_selection import train_test_split\n",
    "from sklearn.svm import LinearSVC\n",
    "from sklearn.metrics import classification_report\n",
    "from simpletransformers.classification import ClassificationModel, ClassificationArgs\n",
    "\n",
    "STOPWORDS = stopwords.words('english')"
   ]
  },
  {
   "cell_type": "markdown",
   "metadata": {},
   "source": [
    "### Loading dataset"
   ]
  },
  {
   "cell_type": "code",
   "execution_count": null,
   "metadata": {
    "id": "x8fP7uGBSIno",
    "tags": []
   },
   "outputs": [],
   "source": [
    "categories = ['alt.atheism', 'comp.graphics', 'sci.med', 'sci.space'] \n",
    "\n",
    "newsgroups_train = fetch_20newsgroups(subset='train', remove=('headers', 'footers', 'quotes'), categories=categories, random_state=420)\n",
    "newsgroups_test = fetch_20newsgroups(subset='test', remove=('headers', 'footers', 'quotes'), categories=categories, random_state=420)\n",
    "\n",
    "train = pd.DataFrame({'text': newsgroups_train.data, 'labels': newsgroups_train.target})\n",
    "train, val = train_test_split(train, test_size=0.1, random_state=420, stratify=train[['labels']])\n",
    "test = pd.DataFrame({'text': newsgroups_test.data, 'labels': newsgroups_test.target})"
   ]
  },
  {
   "cell_type": "markdown",
   "metadata": {},
   "source": [
    "### Pretrained language model"
   ]
  },
  {
   "cell_type": "code",
   "execution_count": null,
   "metadata": {
    "id": "8wXwk5muuVNd",
    "tags": []
   },
   "outputs": [],
   "source": [
    "model_args = ClassificationArgs()\n",
    "\n",
    "model_args.overwrite_output_dir=True\n",
    "model_args.evaluate_during_training=True\n",
    "\n",
    "model_args.num_train_epochs=10\n",
    "model_args.train_batch_size=64\n",
    "model_args.learning_rate=4e-6\n",
    "model_args.max_seq_length=256\n",
    "\n",
    "model_args.use_early_stopping=True\n",
    "model_args.early_stopping_delta=0.01 # \"The improvement over best_eval_loss necessary to count as a better checkpoint\"\n",
    "model_args.early_stopping_metric='eval_loss'\n",
    "model_args.early_stopping_metric_minimize=True\n",
    "model_args.early_stopping_patience=2\n",
    "model_args.evaluate_during_training_steps=32 # how often you want to run validation in terms of training steps (or batches)"
   ]
  },
  {
   "cell_type": "code",
   "execution_count": null,
   "metadata": {
    "tags": []
   },
   "outputs": [],
   "source": [
    "model = ClassificationModel('roberta', 'roberta-large', num_labels=4, args=model_args, use_cuda=True)"
   ]
  },
  {
   "cell_type": "code",
   "execution_count": null,
   "metadata": {
    "colab": {
     "base_uri": "https://localhost:8080/",
     "height": 968,
     "referenced_widgets": [
      "087215466c9c4f0d893b54ef7bdaee5c",
      "470ef6fbaf26454db86bad496fa5c3f7",
      "bcbd56e40e144b4a948555cbb4d52223",
      "acd8556f45ed425b8359ebd32bf6df86",
      "ca1765b0686d431c88542263349efcc4",
      "0fd3c4d22252407a851cf68b9298f4d9",
      "2fd299792987499c9ae61e0894643295",
      "15e324475c724934ba07684c994d57e2",
      "9214d7b2dc9d4c1a824228de5145132d",
      "2b934d83732c4b15aabb775aab5b8860",
      "3cf9616e1d0948a280ae46ece35b679b",
      "7e07a674312e4a49a8889132624a12cd",
      "900dffa54ae245ed9de2da8a644d5272",
      "f5d046a077c64414ac4d044e4c0413bc",
      "c0a8d354f77f43fe9d195df192505156",
      "012c4075c491468dafe325912a89d8e4",
      "cba81ba6846e4e41974357e822564847",
      "e9a75333a84a41e98e0072d5b9555186",
      "94f1c191144e485aac5e2afaa3b51e05",
      "d6294f2e4975453bb72fef24ebfdaef3",
      "0f55b830a4d34e188241a1e10f16b6c6",
      "8a194722cddd4b05a021ea8d1dbbcaf1",
      "cee6192f16714826af8f741fd4dbb0b2",
      "bf12f2fb2d444c18a1847d2d03b74178",
      "6724d59c1df542559004704c5364c4c0",
      "7d3b79fce24349f195ec39c2cd0f4d2d",
      "4f800192df6544e4b402a42bb134c01e",
      "175a6da554174ff7bd15f442d4678424",
      "35fe8ea479a1427b8bbb9f5c1b23836f",
      "7d503b79ec0f4b3d99acb83cecf39f8a",
      "93369996e5134fafaefe70120d58c71c",
      "4c595816c44a4b82953e2e415547e277",
      "c6b9e8a7fe5948cd8cb10089e7add7bc",
      "c2a601dada454a0aa09e712cd3edb446",
      "4054d9dffeee4a06a453a7ef319aa5a3",
      "8e57264e9e31485f9999a4ee4229de2c",
      "3cb154605dab4a42a1405476a896e3c2",
      "57595d741b8a4732b0d96f0862dc2c0a",
      "c013fd3c37e048e098a82622fee8c215",
      "5000822444ed4f30b7ec6ec2f6c50db2",
      "4872e73a3bfb460cbe5e7f535139d0c0",
      "942535505162417297e40a4f2801d890",
      "747375b861cc44cf996a4f8a46cf4f12",
      "ab3354e2ab714df3831f328df769fbd8",
      "1739c4f81d2246d495bd007ad663d219",
      "436f17bca9f84b82ac97a55b4a114163",
      "54801bdd3f3b47c38f736c7ceeeeee95",
      "5633e1afd4424e5db868832b1367504d",
      "7de54537e740408a979450fe08026be4",
      "0da3bdfbcd5a41839244bc03fa4a1587",
      "eb30681827db45d1bb169c1e4704a8bd",
      "d49af3d05c4e4272a451018104411ac5",
      "1c7e9971919940d994dad4b250e7a747",
      "13d075fce6d347ae80d858f9ab2acfb8",
      "f064faae062144879b4930813bde3e0f",
      "31b0c657ef23402ba3bd013cc6c7322b",
      "22653805ebe84e74b1d9e1617ea1a972",
      "8497eeee9e2e4058859ffb88d3ba91de",
      "d842dae2aa05468089c1889347687d31",
      "f41034da819d4ff3b9dc1d8f4f43b435",
      "108783aaef2c471ea6c8c9a5c8de21da",
      "6173ad2963ac4b0b99bb3388fb0a803a",
      "3dafc3b18a8d45208b7a0288a4efd0dd",
      "099d31d172274e22bbcaaaa2fe24ef8f",
      "f0b8d625e8f84125974bc925321f51ca",
      "e8cec01a2c2a43878539d08d0a56b396",
      "a31c3d99a4724cde96ee6723e084bb7d",
      "22e217292a9c48a3b82d24267fa087c9",
      "69aa4220be9a4df8b61b2f652efbfca4",
      "7122c013cb3d422da72984489f4034fe",
      "02ef16ae8bfe48789ff434764c7ab4b7",
      "9029e759adaa439092fce283628bf691",
      "48fde316e5f8490f808d7c0d17a2f1b0",
      "82a60edd2bed405bbfd3107a4a03da15",
      "a1017d3522aa4df6a5eeb3ffc6d1589b",
      "293d15a0da944bad8564f299c64a3558",
      "744d8dae12ec47cfbc4aff57db5de94e",
      "470aa9bd53d84ce3a8b17dc190d674b4",
      "b79d75789c844e7cb36a8be4fe18a448",
      "c2620770d3bb416392c2137f2608d4a8",
      "d66342d339de452ca750320bb709ef0f",
      "3dadeb727cb6449090e3a6b831585da4",
      "d9ce3d19254149f9986fd1a4a420d1ae",
      "656fcac4b1a34d4182e88dc74bb19442",
      "e1497b4420674499ae2a3d8d3afb69f1",
      "167673a7c2a9439eadd4130282cf741d",
      "9395d5cb73914e46a8401d442f370683",
      "b4f6f8d9f5614a449eccae1473a07727",
      "63ee12e54ea14f01a7ead32306090afd",
      "43cdf27281dc4b42be062ede189f0ef1",
      "bd79831fe70943b8b6b6728f0dcc959e",
      "b4ad70f988f8498da331ac9917ae0c89",
      "e4581752ed334375bf75ad55486eb36f",
      "f6d7ef3880074ffda9362a04711d5e08",
      "37762551316c4b9dba0501e11b5d3f98",
      "aa0a01f9711e433bbd86c1059d0dfb8f",
      "e98f852721aa4a39b491961c1794f4e2",
      "2c7f98c2b96c42f785126e07151f5ff0",
      "95208f691bea4c00b935f3c886aac02f",
      "369018263592426bb38a0f7c0b146422",
      "3342498025d848d0a685a147cc667f7e",
      "299bc34b583c43ecad06e6d305067fe0",
      "aa1cc3f327b44a0fbcc56a0c8ce90257",
      "9e7830b87f934838953cfe9f2f013487",
      "9251094bf0844b7d9301bc99d0559ec8",
      "cef3334c256849cdbf8b188d4b442bf9",
      "5097c35533774c47a700f88450bfb574",
      "6a2b7583e5fb41a8aaaeeffabb85ae5b",
      "19f2b24f8fc94e7292a65f082fe53302",
      "2a5091534e0c42e3a92f4348b72f14a9",
      "18f2575b130749b8bed8dee9c6a9df74",
      "473e30ea954448cabad8ccddb50be2bc",
      "4d2ffa8a416042cd8c431dbdad564549",
      "fd5d6af5f5b948da80884aeb51765330",
      "bf062d8939374dc1a3c7452bcae0a93b",
      "2863793ab5d24b1682e3a0c612f4c9b2",
      "6bb9611b04604fd2bd370b651360494b",
      "138ce4bb210c43ffae989fde45dd7c68",
      "247f94fa696f4ce38d0aef4ab9a8bec0",
      "ba9322704c314dbb98b13450439941c1",
      "c840c889695f499da9a07c62ff773002",
      "40337455dcdd455980d663165f9542c8",
      "38526778481049e9a541c173f73f9838",
      "356cd3a6b2ac4a3086e7d2de5d445bca",
      "e3d6fdb5ff9e4f7b827f9b4073d0e844",
      "b869c91fdf4747cc9f2b987587df8ad9",
      "da2c46e4ac5f4327aae2b385944ec9d1",
      "794200bc3bdd453b905910cbb4a83d89",
      "de34d18bed4548219f161a8f3e1c12a8",
      "6bb8647d8a454c5d80d5ea2a22f07fac",
      "404e1367c2e941ab8dba16f9512b760b",
      "59b30cd0e1e24a389c6a9b8c95e2444b",
      "7b317a195d9143138f6a0f4637e29f89",
      "fb9a365dea0c43519931ed9eb34ec8a6",
      "05bce8408e5241f58c3b8049a76287d5",
      "4d6c47f464a04036aaee1c832f54d21b",
      "a94a95c452f4461e9b16b10ef0128057",
      "e51ff7940cfd4ffd8921ebcd55e12cc6",
      "dce4359b5182424e94096702ea91e520",
      "32cf8a575c014abcbbe1df23a71144f3",
      "69bdf67f39224d85a9e9c5aba470856c",
      "352dbf36420e4425ba7d924a8a6a13d9",
      "f9066d88c27f45599ecfbb17064eea6a",
      "838a4c817fe741cb8bbfa44a926d26ce",
      "3a95827652d64a5bb86f3c0039742ed5",
      "2996e38ddf1c46b6afa15c62fa85d008",
      "050309e32dd04c778d088f2a726c840c",
      "854a449535ef460d991d235fa39f5551",
      "3ca3970db00b4cbe9a0d0735fa59d127",
      "dc8ff915813d41d6b05634c6a7472a21",
      "f77544e3c47945b2b8750d4e43b9a43f",
      "b5cb61bdb84742ea8f2009bd3d03db66",
      "13a1720f37894498b676537f16e5805d",
      "0810674aa66940118411834da3697941",
      "390c0a7372b14d74b22b1721f8afd52e",
      "e26f0c68efdb42e596ec6c25d999e0fe",
      "db1dccc531eb45a6bf9583dfe8c518ba",
      "09d51752e1024917a3cd5981e4da009c",
      "7e98e208e7e3416e9ef3b69568131fa4",
      "d4bd38bb0127462aabc5afffad690186",
      "0cd9d3da1e5d400dbe53ea1218c75b83",
      "28328d12671f473b9651b4d09bf6b276",
      "6880b6f155d4435fbd4c943544b22769",
      "cb90380fb35044cbb45614427df29210",
      "0026f15b11fb4d77a1932b6cd0ce19ae",
      "0ce18944f4634c5c852a4098a4ea40d0",
      "9174aa74c21a42cca344fd4330dfb304",
      "7087dc4e61d54dc78291a5618ba7220b",
      "b72ac7c0010a42a88ffd70ba1f0c2932",
      "c67898aef68546a7a1fb386c6248b822",
      "d7470578f4534f1e9253f982e36695e4",
      "f984f7159b904dac9753d1d4e50d4496",
      "0a8e925e8d4c43fe80dc997b43640774",
      "d5b4a311c0d941dca03783ba8d82039f",
      "37e67ea63f4c42328c7056f95b72edcb",
      "9fd16ee51bc04a849bf66abce3bfc7c7",
      "f5b235f165f640c1ad8da8a20bf1bbfe",
      "480d318c954947698ee1abcb097b6962",
      "9506bd5f42424006bbcbfe69e7e004a0",
      "1f8bf17e568c4ae59447d22161764579",
      "e3f98b397c054944ac309003b81c337b",
      "7da6444cbbca45a2ba83337a058d411c",
      "ac16fe5b538d492ba593f382209288b3",
      "77c34edf9173486795566c8bfc78a3db",
      "d9bd1b10e98448adb1f58aac6cd73628",
      "b127e2cd910843d2be608d9f9a84c909",
      "b64449c5f68243d59408b44dd3be0c23",
      "894f25dd58c944b7a20c82fa20eaf687",
      "f51dfb3d304c4e06bcc42f468c5e87a6",
      "afa1f4b694d547e0bcf7261624b4ce0a",
      "d5af7e235c6b4d0796bacbb5c865fd59",
      "2d472bf5c856417d8f27bb599b427a2d",
      "87cb53691bd94ac9aea3dc3d4776fd37",
      "e1bef2dfab184988b3cc09abd83f8113",
      "51142631e01f463983654f245537578c",
      "c1eaffb18a2244a98e16b55a86c2d495",
      "daeef410f6514a4ca4a97358d92d2ece",
      "eeef14aff2ed49e28c3b4f49edbf12df",
      "b132ae4c3f8743028d9c954c52592746",
      "f8d570c8b5c14f3592a1b66d7c53ef2e",
      "50d47b79bcb84f45839d8d3fcd5a8c58",
      "e8cc918ce101443ead101bf7efb3eb62",
      "2e9685885c0c436397cd5b974d9b88d0",
      "0d30963aad9643a7a188de7e769a83fd",
      "312aea1c554a49b28d0fb4dac65a18cb",
      "96c82950a1674d2faa252f53a82ce6d7",
      "28548fe8117e4530993ec3971bcfd19d",
      "4459ab49c03b4b7088b0f7c58e9f3428",
      "c344ca2fe0a64886a758d2764ef72df0",
      "736785cd7d614326a84e89d2eaf4d570",
      "362e418a3b224b08b7757af7f9bb84c8",
      "ef783e0912084e27a5953213d002eb10",
      "71f26a151e784854b28702b7887371cb",
      "1c136b35ed3345d6ad64e223d458f3fd",
      "70227a40953842a99b409abd20bec217",
      "d1c39ad684a7416d8909bc21557fdbc7",
      "dfd992fe852649f79413ab17a07b8acf",
      "98eb7ce3dac64893a9a9fc9f36373d02",
      "3de964bb33d943199964c65263fe4bb2",
      "b5f6f1d673d146c8a6bc3f1787c64b39",
      "4058c1fee00f4f7981155d93ad2a4a23",
      "401ceb6048fb4d17a846c864e5dfddbb",
      "081e3df987534ca9b1a424ce6ae5be30",
      "6eed0cbef9ba47a9857df840a3389214",
      "ca5e69bd2f7244d6ade430da72f6ab6a",
      "d771e4210a9348d7a82fa29064c22cbe",
      "a643e370a73a400aa4dbc7df276256c8",
      "d242f6bd551747faa4b2dcedd62491e2",
      "95136799050c4c4cb605fbc6c7e0d21c",
      "3f21a13b9ccd468e9597e934d9d32eb3",
      "c8037e8d7ab84c44930231c8498779e4",
      "0ea85827282a4429ba64e47ad7f1e0ee",
      "9168a22d86174fc69e907db8dc482e93",
      "b204d0fec6964412a2dc5f5e829b01c0",
      "08c398d9b0504bee81ffbda2c6425cea",
      "cf48fc971b274e2fb4d5cbddf5077c0a",
      "bbd2056cb3a74bf99cd2e0444fdba0a6",
      "beed05fa4e5e4eb7bcdced82ea5ca8db",
      "e6026fd2198f44fbb0b9f6ef5f934886",
      "3f4aae119345484398b6236d2ba8e35b",
      "6341e6d369d6467291c6bfa6688f5219",
      "638b88f67d66462baad1b9c8810d2be2",
      "75b54cd0814c48308c29245954302e52",
      "78e8dbac244c4d16ad3252a5dbd1085a",
      "d12bf4b4086d41f398236eb6ada1d1a7",
      "7d13e79eb55044a487b49fefc23528e1",
      "9240d92dd8a647879aeda07343283ce7",
      "b51b8fd4aebf406cb4620cf7b218b0a8",
      "b5b5bfd630b84339af033110afacae70",
      "cb12032496cf4631b34c3d15e36b70c8",
      "64c997d4932440a5af34a27c47d5d237",
      "ce363a2274264d839b9d146ef5dca931",
      "ad6878fe3f824b59b610fd7cdd2cefd2",
      "b88d8be1ecc14f75959686659563efcb",
      "e7776aa8fa9d4fde9ac169661ab47685",
      "b9fe90c635b940b589af1d25c626d0f6",
      "8ca29ff9820147c9a35c669ac58c8bae",
      "040b8181dc1949c887b11546d035eb21",
      "036a2c9c7cfa413186d05c521d9d6e00",
      "857a70bc54f14feba1d3f8551236fbbf",
      "10e26909b79a42fb9de71f931cfe60bf",
      "f3c689355fa44ac88a251c2314a78d67",
      "cc5aca625511442b982ad2fb7b3bdefc",
      "422dab12d3b245b3bb05d6e46d53c03d",
      "e47c58e7f3514b398a9fa27c715503e2",
      "e6692bf534424dad86334469be1fe509",
      "a34fbeb62ba44fa1a33162833f1ced13",
      "15d3f74eb10344a89a6e86443500e8e4",
      "de29885cef1d48f29ae88fb73dd0dfa6",
      "f06d29c3396045f7a1c1d02bd62b85be",
      "07546cdfc3114568ae5c20fca59b437a",
      "172c8f041d0e4043977f7c958f5e40f5",
      "48f6f762be7440d085aab4b62986297a",
      "61815653b0db479b9fa261ede63513b8",
      "62e3d28a991e4358b75551daaff94532",
      "c8e0be6df8b4424091822fea4302d6ff",
      "1302395f71a446e999ed61d5a0b2c2f3",
      "f111740f280e4f5eb287c2fffa169fb6",
      "bf3a28ea90ac411c9b24d6305e31e688",
      "a4f06276fe85425d901ff3126b8a8af3",
      "a28312d8991d4becaceffd82a39fdb9a",
      "cd3456f933a54392af94cfdd0375606f",
      "a212917372bd4a8faff63a9b5e9d81cd",
      "b9077f5699994241bda1f09e0a6ca276",
      "9a4f3edccc4e4dcbb7c386e0326d2e0a",
      "3c14b64a51fd4d899642da9a73d14255",
      "cc3174e4eff145af8383dd320f71e766",
      "c86390645b984711a0e9f24f1e0cd98a",
      "dc8a52aadb5e48bc9a2b3808a38e9be5",
      "88a521ab04e04e0cbeae11f19983028f",
      "1ef2b21733ee4d0f88c31e9f87d786c3",
      "929ff658dc0d4324960478abc29f3e1e",
      "caafb61fcddb413ba7a9d34bf19f1043",
      "e9249e6dcb8c4990a0ec461807595dd8",
      "a5127b1e6d7040efbc587f2491ff5f15",
      "bacc75b8c6764ec18a60b4b10ab19fdc",
      "2e4563c57bc74207bb6920d97178c816",
      "1830e3de9cfc4a0d87ed793c17063027",
      "294c312d906b49159a89c36c87f08cb7",
      "0cd503fa5d28498a91470b61c6289401",
      "1cf0cf2f89744b06b486e3dff1d2dd76",
      "553c6b3ddcec46bd8f85c5856bf548b1",
      "021e1707cf18403fb8c60860843247b8",
      "7b41caf595544aa4aa5ef3354b251d54",
      "ddba792beacb4259bc3846d88eb6dec7",
      "a1f512f7414c4920b8684e76a7dbbc1d",
      "f2e3b1e73a124ee88e0294d7d08c9238",
      "0ff1c4d7ebdd424cad3809713c3f4ab7"
     ]
    },
    "executionInfo": {
     "elapsed": 2644793,
     "status": "ok",
     "timestamp": 1645796893830,
     "user": {
      "displayName": "Ilia Markov",
      "photoUrl": "https://lh3.googleusercontent.com/a-/AOh14GiKKVHQAMPDKer006hWNwA1h_Tl0RFH-J_2tc01=s64",
      "userId": "09447936546757127632"
     },
     "user_tz": -60
    },
    "id": "NXHd3iwFuX_z",
    "outputId": "01181805-fb09-42fa-bd6c-e39df217c682",
    "tags": []
   },
   "outputs": [],
   "source": [
    "model.train_model(train, eval_df=val)"
   ]
  },
  {
   "cell_type": "code",
   "execution_count": null,
   "metadata": {},
   "outputs": [
    {
     "data": {
      "application/vnd.jupyter.widget-view+json": {
       "model_id": "125dba1db9c74b75b11af966d77ed53a",
       "version_major": 2,
       "version_minor": 0
      },
      "text/plain": [
       "  0%|          | 0/1498 [00:00<?, ?it/s]"
      ]
     },
     "metadata": {},
     "output_type": "display_data"
    },
    {
     "data": {
      "application/vnd.jupyter.widget-view+json": {
       "model_id": "308678b2a1254bdebc3003dcc06673e9",
       "version_major": 2,
       "version_minor": 0
      },
      "text/plain": [
       "  0%|          | 0/188 [00:00<?, ?it/s]"
      ]
     },
     "metadata": {},
     "output_type": "display_data"
    },
    {
     "name": "stdout",
     "output_type": "stream",
     "text": [
      "              precision    recall  f1-score   support\n",
      "\n",
      "           0       0.84      0.78      0.81       319\n",
      "           1       0.88      0.93      0.90       389\n",
      "           2       0.95      0.85      0.90       396\n",
      "           3       0.77      0.85      0.81       394\n",
      "\n",
      "    accuracy                           0.86      1498\n",
      "   macro avg       0.86      0.85      0.85      1498\n",
      "weighted avg       0.86      0.86      0.86      1498\n",
      "\n"
     ]
    }
   ],
   "source": [
    "print(classification_report(test.labels, model.predict(test.text.to_list())[0]))"
   ]
  },
  {
   "attachments": {},
   "cell_type": "markdown",
   "metadata": {},
   "source": [
    "##### Output from the BERT model"
   ]
  },
  {
   "attachments": {},
   "cell_type": "markdown",
   "metadata": {},
   "source": [
    "                    precision    recall  f1-score   support\n",
    "\n",
    "                0       0.82      0.83      0.82       319\n",
    "                1       0.90      0.91      0.91       389\n",
    "                2       0.87      0.91      0.89       396\n",
    "                3       0.88      0.81      0.84       394\n",
    "\n",
    "        accuracy                            0.87      1498\n",
    "        macro avg       0.87      0.87      0.87      1498\n",
    "     weighted avg       0.87      0.87      0.87      1498"
   ]
  },
  {
   "attachments": {},
   "cell_type": "markdown",
   "metadata": {},
   "source": [
    "Comparing ROBERTA with BERT, it seems BERT has a slightly higher accuracy with 0.87 compared to ROBERTA's 0.86. Both have therefore a good performance. This score comes from that both for precision and recall, the macro avg and weighted avg are all higher for BERT. Therefore for the F1-score BERT's is also performing better when comparing the macro avg and weighted avg. BERT performance in all categories is slightly better."
   ]
  },
  {
   "cell_type": "markdown",
   "metadata": {},
   "source": [
    "### Conventional ML model"
   ]
  },
  {
   "cell_type": "code",
   "execution_count": null,
   "metadata": {
    "tags": []
   },
   "outputs": [],
   "source": [
    "vectorizer = CountVectorizer(stop_words=STOPWORDS).fit(newsgroups_train.data + newsgroups_test.data)\n",
    "\n",
    "train = vectorizer.transform(newsgroups_train.data)\n",
    "test = vectorizer.transform(newsgroups_test.data)"
   ]
  },
  {
   "cell_type": "code",
   "execution_count": 5,
   "metadata": {
    "tags": []
   },
   "outputs": [
    {
     "name": "stdout",
     "output_type": "stream",
     "text": [
      "               precision    recall  f1-score   support\n",
      "\n",
      "  alt.atheism       0.83      0.76      0.80       319\n",
      "comp.graphics       0.75      0.90      0.82       389\n",
      "      sci.med       0.87      0.73      0.80       396\n",
      "    sci.space       0.78      0.79      0.79       394\n",
      "\n",
      "     accuracy                           0.80      1498\n",
      "    macro avg       0.81      0.80      0.80      1498\n",
      " weighted avg       0.81      0.80      0.80      1498\n",
      "\n"
     ]
    }
   ],
   "source": [
    "clf = LinearSVC(C=0.01, max_iter=int(1e6), random_state=420)\n",
    "clf.fit(train, newsgroups_train.target)\n",
    "print(classification_report(newsgroups_test.target, clf.predict(test), target_names=newsgroups_test.target_names))"
   ]
  },
  {
   "cell_type": "markdown",
   "metadata": {},
   "source": [
    "*Comparison with the other two.*"
   ]
  }
 ],
 "metadata": {
  "kernelspec": {
   "display_name": "Python 3 (ipykernel)",
   "language": "python",
   "name": "python3"
  },
  "language_info": {
   "codemirror_mode": {
    "name": "ipython",
    "version": 3
   },
   "file_extension": ".py",
   "mimetype": "text/x-python",
   "name": "python",
   "nbconvert_exporter": "python",
   "pygments_lexer": "ipython3",
   "version": "3.9.7"
  }
 },
 "nbformat": 4,
 "nbformat_minor": 4
}
